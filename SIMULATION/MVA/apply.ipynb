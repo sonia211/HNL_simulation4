{
 "cells": [
  {
   "cell_type": "code",
   "execution_count": 1,
   "metadata": {},
   "outputs": [
    {
     "name": "stdout",
     "output_type": "stream",
     "text": [
      "········\n"
     ]
    },
    {
     "data": {
      "text/plain": [
       "0"
      ]
     },
     "execution_count": 1,
     "metadata": {},
     "output_type": "execute_result"
    }
   ],
   "source": [
    " #get kerberos token for eos\n",
    "import getpass, os\n",
    "os.system(\"echo %s | kinit gandreas@CERN.CH\" %getpass.getpass()) "
   ]
  },
  {
   "cell_type": "code",
   "execution_count": 2,
   "metadata": {
    "collapsed": true
   },
   "outputs": [],
   "source": [
    "import sys\n",
    "tag = 1\n",
    "decay = \"emu\"\n",
    "out_tag = \"25102017\"\n",
    "k=5\n",
    "best_classifier_name=\"xgboost\"\n",
    "classifiers_dir = 'classifiers/'\n",
    "classifiers_subdir = \"/trained_\"+best_classifier_name+str(tag)+\"_\"+decay+\"/\"\n",
    "dir_name = classifiers_dir+classifiers_subdir\n",
    "if not os.path.exists(dir_name):\n",
    "    raise Exception(\"Cannot find the classifiers folder!\")\n",
    "    \n",
    "best_classifier_name = 'xgboost'"
   ]
  },
  {
   "cell_type": "code",
   "execution_count": 3,
   "metadata": {
    "collapsed": true
   },
   "outputs": [],
   "source": [
    "#X-checking\n",
    "if (len(os.listdir(dir_name))!=k):\n",
    "    raise Exception(\"Number of folds != number of classifiers found in\", dir_name)"
   ]
  },
  {
   "cell_type": "code",
   "execution_count": 4,
   "metadata": {},
   "outputs": [
    {
     "data": {
      "application/javascript": [
       "\n",
       "require(['notebook'],\n",
       "  function() {\n",
       "    IPython.CodeCell.config_defaults.highlight_modes['magic_text/x-c++src'] = {'reg':[/^%%cpp/]};\n",
       "    console.log(\"JupyROOT - %%cpp magic configured\");\n",
       "  }\n",
       ");\n"
      ]
     },
     "metadata": {},
     "output_type": "display_data"
    },
    {
     "name": "stdout",
     "output_type": "stream",
     "text": [
      "Welcome to JupyROOT 6.08/02\n"
     ]
    }
   ],
   "source": [
    "import cuts\n",
    "cuts = (cuts.Lb_Lemu_preselection+cuts.Lb_Lemu_HOP_FD_cut).GetTitle() #if data!! None, if MC"
   ]
  },
  {
   "cell_type": "code",
   "execution_count": 5,
   "metadata": {
    "collapsed": true
   },
   "outputs": [],
   "source": [
    "#retrieve trained classifiers\n",
    "import pickle\n",
    "\n",
    "k_classifiers=[]\n",
    "for i in range(k):\n",
    "    file_name = dir_name+best_classifier_name+\"_k\"+str(i)+\".pickle.dat\"\n",
    "    k_classifiers.append(pickle.load(open(file_name, \"r\")))\n",
    "    \n",
    "if os.path.exists(file_name):\n",
    "        best_classifier = pickle.load(open(file_name, \"r\"))\n",
    "else: raise Exception(\"Cannot find the classifier!\")\n",
    "    \n",
    "#branches = best_classifier.features ##for now they are set manyally. I'll fix this later byt taking them from vars_db\n",
    "branches = k_classifiers[0].features\n",
    "branches = [var.replace(\"_mathPLUS_\", \"+\").replace(\"_mathMINUS_\", \"-\").replace(\"_mathTIMES_\", \"*\").replace(\"_mathOVER_\", \"/\") for var in branches]\n",
    "additional_branches = ['Lb_M', 'eventNumber'] #spectator variables and others"
   ]
  },
  {
   "cell_type": "code",
   "execution_count": null,
   "metadata": {
    "collapsed": true
   },
   "outputs": [],
   "source": [
    "from tools.MVA2root import MVA2root\n",
    "\n",
    "MVA2root (k_classifiers,\n",
    "          classifier_name=best_classifier_name+str(tag),\n",
    "          inputfilenames = [os.getenv(\"LBMICKJOBLOC\")+\"209/*/DVNtuple.root\", os.getenv(\"LBMICKJOBLOC\")+\"210/*/DVNtuple.root\"],\n",
    "          tuplename = 'Lb2LemuTuple/DecayTree',\n",
    "          max_files_atatime = 50,\n",
    "          branches = branches+additional_branches,\n",
    "          outfilenameroot = (os.getenv(\"GUIDOANAEOSLOC\")+\"tuples/S28/\"+out_tag+\"/LbLemu_BDT_\"+str(tag)),\n",
    "          fix_features_names_for_MVA = True,\n",
    "          cuts=cuts\n",
    "         )"
   ]
  },
  {
   "cell_type": "code",
   "execution_count": 6,
   "metadata": {},
   "outputs": [
    {
     "name": "stdout",
     "output_type": "stream",
     "text": [
      "Processing chunk 0 of 1 ...\n",
      "Applying MVA to fold 0 ...\n",
      "Applying MVA to fold 1 ...\n",
      "Applying MVA to fold 2 ...\n",
      "Applying MVA to fold 3 ...\n",
      "Applying MVA to fold 4 ...\n",
      "Done!\n",
      "Writing output file with the following content: \n",
      "TFile**\t\t/eos/lhcb/user/g/gandreas/Lb2Lemu/tuples/S28/25102017/LbLemu_MC_test_BDT_0.root\t\n",
      " TFile*\t\t/eos/lhcb/user/g/gandreas/Lb2Lemu/tuples/S28/25102017/LbLemu_MC_test_BDT_0.root\t\n",
      "  KEY: TTree\tDecayTree;1\tDecayTree\n"
     ]
    },
    {
     "name": "stderr",
     "output_type": "stream",
     "text": [
      "/home/guido/anaconda3/envs/py27/lib/python2.7/site-packages/IPython/kernel/__init__.py:13: ShimWarning: The `IPython.kernel` package has been deprecated since IPython 4.0.You should import from ipykernel or jupyter_client instead.\n",
      "  \"You should import from ipykernel or jupyter_client instead.\", ShimWarning)\n"
     ]
    }
   ],
   "source": [
    "from tools.MVA2root import MVA2root\n",
    "\n",
    "MVA2root (k_classifiers,\n",
    "          classifier_name = best_classifier_name+str(tag),\n",
    "          inputfilenames = [os.getenv(\"GUIDOANAEOSLOC\")+\"tuples/S28/MC/Lb_Lemu_MC_2016_M*.root\"],\n",
    "          tuplename = 'Lb2LemuTuple/DecayTree',\n",
    "          max_files_atatime = 50,\n",
    "          branches = branches+additional_branches,\n",
    "          outfilenameroot = (os.getenv(\"GUIDOANAEOSLOC\")+\"tuples/S28/\"+out_tag+\"/LbLemu_MC_test_BDT\"),\n",
    "          fix_features_names_for_MVA = True,\n",
    "          cuts=\"1\"\n",
    "         )"
   ]
  },
  {
   "cell_type": "code",
   "execution_count": null,
   "metadata": {
    "collapsed": true
   },
   "outputs": [],
   "source": []
  }
 ],
 "metadata": {
  "kernelspec": {
   "display_name": "Python 2",
   "language": "python",
   "name": "python2"
  },
  "language_info": {
   "codemirror_mode": {
    "name": "ipython",
    "version": 2
   },
   "file_extension": ".py",
   "mimetype": "text/x-python",
   "name": "python",
   "nbconvert_exporter": "python",
   "pygments_lexer": "ipython2",
   "version": "2.7.13"
  }
 },
 "nbformat": 4,
 "nbformat_minor": 2
}
