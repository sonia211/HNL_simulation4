{
 "cells": [
  {
   "cell_type": "code",
   "execution_count": 10,
   "metadata": {
    "collapsed": true
   },
   "outputs": [],
   "source": [
    "from __future__ import division\n",
    "import sys, os\n",
    "tag = 0\n",
    "decay = \"emu\"\n",
    "\n",
    "import matplotlib as mpl\n",
    "mpl.use('Agg') #use for python script mode\n",
    "import matplotlib.pyplot as plt\n",
    "plt.ioff()"
   ]
  },
  {
   "cell_type": "code",
   "execution_count": 37,
   "metadata": {
    "collapsed": true
   },
   "outputs": [],
   "source": [
    "output_dir = 'gridscan_output/{0}/{1}'.format(decay, tag)\n",
    "if not os.path.exists(output_dir):\n",
    "    os.makedirs(output_dir)\n",
    "plots_dir = 'plots/{0}/{1}'.format(decay, tag)\n",
    "if not os.path.exists(plots_dir):\n",
    "    os.makedirs(plots_dir)\n",
    "classifiers_dir = 'classifiers/'.format(decay, tag)\n",
    "if not os.path.exists(classifiers_dir):\n",
    "    os.makedirs(classifiers_dir)"
   ]
  },
  {
   "cell_type": "code",
   "execution_count": 12,
   "metadata": {},
   "outputs": [
    {
     "data": {
      "application/javascript": [
       "\n",
       "require(['notebook'],\n",
       "  function() {\n",
       "    IPython.CodeCell.config_defaults.highlight_modes['magic_text/x-c++src'] = {'reg':[/^%%cpp/]};\n",
       "    console.log(\"JupyROOT - %%cpp magic configured\");\n",
       "  }\n",
       ");\n"
      ]
     },
     "metadata": {},
     "output_type": "display_data"
    },
    {
     "name": "stdout",
     "output_type": "stream",
     "text": [
      "Welcome to JupyROOT 6.08/02\n"
     ]
    },
    {
     "name": "stderr",
     "output_type": "stream",
     "text": [
      "/cvmfs/lhcb.cern.ch/lib/lcg/releases/LCG_87/ROOT/6.08.02/x86_64-slc6-gcc49-opt/lib/ROOT.py:417: UserWarning: \"from ROOT import *\" is not supported under IPython\n",
      "  warnings.warn( '\"from ROOT import *\" is not supported under IPython' )\n",
      "/home/guido/anaconda3/envs/py27/lib/python2.7/site-packages/sklearn/cross_validation.py:44: DeprecationWarning: This module was deprecated in version 0.18 in favor of the model_selection module into which all the refactored classes and functions are moved. Also note that the interface of the new CV iterators are different from that of this module. This module will be removed in 0.20.\n",
      "  \"This module will be removed in 0.20.\", DeprecationWarning)\n"
     ]
    }
   ],
   "source": [
    "import numexpr\n",
    "import os\n",
    "import root_numpy\n",
    "import ROOT\n",
    "import cuts\n",
    "from getdata.getdata import getData\n",
    "import pandas as pd\n",
    "from rep import utils\n",
    "from sklearn.ensemble import GradientBoostingClassifier\n",
    "from rep.report.metrics import RocAuc\n",
    "from rep.metaml import GridOptimalSearchCV, FoldingScorer, RandomParameterOptimizer, SubgridParameterOptimizer\n",
    "from rep.estimators import SklearnClassifier, TMVAClassifier, XGBoostRegressor, TheanetsClassifier, XGBoostClassifier\n",
    "from sklearn.naive_bayes import GaussianNB\n",
    "from sklearn.ensemble import GradientBoostingClassifier\n",
    "from sklearn.neural_network import MLPClassifier\n",
    "from rep.metaml import RegressionParameterOptimizer\n",
    "from rep.metaml import RandomParameterOptimizer\n",
    "from sklearn.gaussian_process import GaussianProcess\n",
    "from rep.report.metrics import OptimalMetric, ams\n",
    "from sklearn.metrics import roc_curve, auc\n",
    "import numpy as np\n",
    "from sklearn.utils import check_array, check_consistent_length\n",
    "from sklearn.utils.multiclass import type_of_target\n",
    "from scipy.stats import randint, uniform\n",
    "import random\n",
    "import re\n",
    "from tools.findcuts import findcuts2\n",
    "default_stdout = sys.stdout #I need this to redirect the stdout back on screen at the end"
   ]
  },
  {
   "cell_type": "code",
   "execution_count": 13,
   "metadata": {
    "collapsed": true
   },
   "outputs": [],
   "source": [
    "#define input variables\n",
    "branches = ['Lb_TAU',\n",
    "    'Lb_PT',\n",
    "    'Lb_P',\n",
    "    'Lb_OWNPV_CHI2/Lb_OWNPV_NDOF', \n",
    "    'Lb_IPCHI2_OWNPV',\n",
    "    'Lb_IP_OWNPV',\n",
    "    'Lb_FDCHI2_OWNPV',\n",
    "    'Lb_hop_LoKi_mass_bv',\n",
    "    'Lb_ConeIsoInfoH1_CC_MULT',\n",
    "    'Lb_ConeIsoInfoH2_CC_MULT',\n",
    "    'Lb_ConeIsoInfoL1_CC_MULT+Lb_ConeIsoInfoL2_CC_MULT',\n",
    "    'Lb_ConeIsoInfoH1_CC_PTASYM',\n",
    "    'Lb_ConeIsoInfoH2_CC_PTASYM',\n",
    "    'Lb_ConeIsoInfoL1_CC_PTASYM',\n",
    "    'Lb_ConeIsoInfoL2_CC_PTASYM',\n",
    "    'Lb_TrackIsoBDTInfoH1_TRKISOBDTFIRSTVALUE',\n",
    "    'Lb_TrackIsoBDTInfoH2_TRKISOBDTFIRSTVALUE',\n",
    "    'Lb_TrackIsoBDTInfoL1_TRKISOBDTFIRSTVALUE',\n",
    "    'Lb_TrackIsoBDTInfoL2_TRKISOBDTFIRSTVALUE',\n",
    "    'Lb_TrackIsoInfoH1_CONEMULT',\n",
    "    'Lb_TrackIsoInfoH2_CONEMULT',\n",
    "    'Lb_TrackIsoInfoL1_CONEMULT+Lb_TrackIsoInfoL2_CONEMULT',\n",
    "    'Lb_VtxIsoBDT_VTXISOBDTHARDFIRSTVALUE',\n",
    "    'Lb_VtxIso_VTXISODCHI2TWOTRACK',\n",
    "    'l1_OWNPV_CHI2+l2_OWNPV_CHI2',\n",
    "    'l1_IPCHI2_OWNPV+l2_IPCHI2_OWNPV',\n",
    "    'l1_ORIVX_CHI2+l2_ORIVX_CHI2',\n",
    "    'l1_PT+l2_PT',\n",
    "    'L0_OWNPV_CHI2',\n",
    "    'L0_IPCHI2_OWNPV',\n",
    "    'L0_ORIVX_CHI2',\n",
    "    'L0_ENDVERTEX_CHI2',\n",
    "    'L0_P',\n",
    "    'L0_PT',\n",
    "#    'L0_DIRA_OWNPV',\n",
    "    'p_PT',\n",
    "    'pi_PT',\n",
    "    'p_P',\n",
    "    'pi_P',\n",
    "    'p_OWNPV_CHI2+pi_OWNPV_CHI2',\n",
    "    'p_IPCHI2_OWNPV+pi_IPCHI2_OWNPV',\n",
    "    'p_ORIVX_CHI2+pi_ORIVX_CHI2']\n",
    "\n",
    "additional_branches = ['Lb_M'] #spectator variables and others"
   ]
  },
  {
   "cell_type": "code",
   "execution_count": 14,
   "metadata": {},
   "outputs": [
    {
     "name": "stdout",
     "output_type": "stream",
     "text": [
      "········\n"
     ]
    },
    {
     "data": {
      "text/plain": [
       "0"
      ]
     },
     "execution_count": 14,
     "metadata": {},
     "output_type": "execute_result"
    },
    {
     "name": "stdout",
     "output_type": "stream",
     "text": [
      "Password for gandreas@CERN.CH: \n"
     ]
    }
   ],
   "source": [
    " #get kerberos token for eos\n",
    "import getpass\n",
    "os.system(\"echo %s | kinit gandreas@CERN.CH\" %getpass.getpass()) "
   ]
  },
  {
   "cell_type": "code",
   "execution_count": 15,
   "metadata": {
    "collapsed": true
   },
   "outputs": [],
   "source": [
    "#%time\n",
    "#get data and mc trees\n",
    "MC_tree = ROOT.TChain('Lb2LemuTuple/DecayTree')\n",
    "MC_tree.Add(os.getenv(\"GUIDOANAEOSLOC\")+\"tuples/S28/MC/Lb_Lemu_MC_2016_M*.root\")\n",
    "\n",
    "data_tree = ROOT.TChain('Lb2LemuTuple/DecayTree')\n",
    "#temporary fix:\n",
    "from glob import glob\n",
    "for file in glob(os.getenv(\"LBMICKJOBLOC\")+\"209/[0-2][0-9]/DVNtuple.root\"):\n",
    "    data_tree.AddFile(file)\n",
    "for file in glob(os.getenv(\"LBMICKJOBLOC\")+\"210/[0-2][0-9]/DVNtuple.root\"):\n",
    "    data_tree.AddFile(file)\n",
    "\n",
    "#data_tree = getData(['Lb2LemuTuple/DecayTree'], dtype = 'CL16_S28')\n",
    "\n",
    "#de-activate not needed branches since otherwise the tree will be very heavy to handle\n",
    "#data_tree['Lb2LemuTuple/DecayTree'].SetBranchStatus('*', 0)\n",
    "#for branch in branches+additional_branches:#\n",
    "#    data_tree['Lb2LemuTuple/DecayTree'].SetBranchStatus(branch, 1)\n",
    "#data_tree['Lb2LemuTuple/DecayTree'].SetBranchStatus(\"Lb_M\", 1)\n",
    "\n"
   ]
  },
  {
   "cell_type": "code",
   "execution_count": 16,
   "metadata": {},
   "outputs": [
    {
     "name": "stdout",
     "output_type": "stream",
     "text": [
      "entry cut:  1\n",
      "Optimal cut:  ((((((((((((((((((((((((((((((((((Lb_TAU<0.009021)&&(Lb_PT<32130.0))&&(Lb_P<457500.0))&&((Lb_OWNPV_CHI2/Lb_OWNPV_NDOF>0.2139)&&(Lb_OWNPV_CHI2/Lb_OWNPV_NDOF<0.70215)))&&(Lb_IPCHI2_OWNPV<26.441))&&(Lb_IP_OWNPV<0.24123))&&(Lb_FDCHI2_OWNPV<16170.0))&&((Lb_hop_LoKi_mass_bv>2219.25)&&(Lb_hop_LoKi_mass_bv<9685.5)))&&(Lb_ConeIsoInfoH1_CC_MULT<10.725))&&(Lb_ConeIsoInfoH2_CC_MULT<9.779))&&(Lb_ConeIsoInfoL1_CC_MULT+Lb_ConeIsoInfoL2_CC_MULT<17.399))&&((Lb_ConeIsoInfoH1_CC_PTASYM>-1.0547)&&(Lb_ConeIsoInfoH1_CC_PTASYM<1.1215)))&&((Lb_ConeIsoInfoH2_CC_PTASYM>-1.0502)&&(Lb_ConeIsoInfoH2_CC_PTASYM<1.121)))&&((Lb_ConeIsoInfoL1_CC_PTASYM>-1.024)&&(Lb_ConeIsoInfoL1_CC_PTASYM<1.122)))&&((Lb_ConeIsoInfoL2_CC_PTASYM>-1.0502)&&(Lb_ConeIsoInfoL2_CC_PTASYM<1.121)))&&((Lb_TrackIsoBDTInfoH1_TRKISOBDTFIRSTVALUE>-0.200075)&&(Lb_TrackIsoBDTInfoH1_TRKISOBDTFIRSTVALUE<0.390475)))&&((Lb_TrackIsoBDTInfoH2_TRKISOBDTFIRSTVALUE>-0.209925)&&(Lb_TrackIsoBDTInfoH2_TRKISOBDTFIRSTVALUE<0.386025)))&&(Lb_TrackIsoBDTInfoL1_TRKISOBDTFIRSTVALUE<0.37275))&&((Lb_TrackIsoBDTInfoL2_TRKISOBDTFIRSTVALUE>-0.19975)&&(Lb_TrackIsoBDTInfoL2_TRKISOBDTFIRSTVALUE<0.38585)))&&(Lb_TrackIsoInfoH1_CONEMULT<10.725))&&(Lb_TrackIsoInfoH2_CONEMULT<10.78))&&(Lb_TrackIsoInfoL1_CONEMULT+Lb_TrackIsoInfoL2_CONEMULT<18.495))&&((Lb_VtxIsoBDT_VTXISOBDTHARDFIRSTVALUE>-1.1021)&&(Lb_VtxIsoBDT_VTXISOBDTHARDFIRSTVALUE<0.39365)))&&((Lb_VtxIso_VTXISODCHI2TWOTRACK>-7475.0)&&(Lb_VtxIso_VTXISODCHI2TWOTRACK<10150.0)))&&(l1_IPCHI2_OWNPV+l2_IPCHI2_OWNPV<7992.0))&&(l1_PT+l2_PT<24097.5))&&(L0_IPCHI2_OWNPV>-411.5))&&(L0_ORIVX_CHI2<28.564))&&(L0_P<171600.0))&&(L0_PT<13524.0))&&(p_PT<10858.5))&&(pi_PT<2040.0))&&(p_P<148000.0))&&(pi_P<25755.0))&&(p_IPCHI2_OWNPV+pi_IPCHI2_OWNPV<2929.5)\n",
      "Efficiency:  0.901727400354\n"
     ]
    }
   ],
   "source": [
    "import imp\n",
    "import sys\n",
    "imp.reload (sys.modules['tools.findcuts'])\n",
    "from tools.findcuts import findcuts2\n",
    "\n",
    "\n",
    "data_tree_cut = data_tree.CopyTree((cuts.Lb_Lemu_sidebands+cuts.Lb_Lemu_trigger_run2_full_for_MVA_training).GetTitle())\n",
    "MC_tree_cut = MC_tree.CopyTree((cuts.Lb_Lemu_matching+cuts.Lb_Lemu_trigger_run2_full_for_MVA_training).GetTitle())\n",
    "treelist = ROOT.TList();\n",
    "treelist.Add(data_tree_cut);\n",
    "treelist.Add(MC_tree_cut);\n",
    "total_tree = ROOT.TTree.MergeTrees(treelist)\n",
    "\n",
    "preselection_cut = findcuts2(total_tree, branches, \"1\")\n",
    "#preselection_cut"
   ]
  },
  {
   "cell_type": "code",
   "execution_count": 17,
   "metadata": {
    "collapsed": true
   },
   "outputs": [],
   "source": [
    "\n",
    "#convert tree ntuples in train and test data with respectivle lables, under the form of pandas datasets\n",
    "from tools.convert_data import convert_data\n",
    "\n",
    "import imp\n",
    "import sys\n",
    "imp.reload (sys.modules['tools.convert_data'])\n",
    "\n",
    "\n",
    "signal_training_cut = cuts.Lb_Lemu_matching+cuts.Lb_Lemu_trigger_run1_full\n",
    "\n",
    "#print signal_training_cut.GetTitle()\n",
    "train_data, train_labels, test_data, test_labels = convert_data (MC_tree,\n",
    "                                                                 (preselection_cut+cuts.Lb_Lemu_matching+cuts.Lb_Lemu_trigger_run2_full_for_MVA_training).GetTitle(),\n",
    "                                                                 data_tree,\n",
    "                                                                 (preselection_cut+cuts.Lb_Lemu_sidebands+cuts.Lb_Lemu_trigger_run2_full_for_MVA_training).GetTitle(),\n",
    "                                                                 branches+additional_branches,\n",
    "                                                                 test_frac = 0.2)\n",
    "\n",
    "#let's also prepare signal and background in separate dataframes for convenience\n",
    "train_data_with_labels = pd.DataFrame(np.hstack((train_data, train_labels.reshape(train_labels.shape[0], -1))),\n",
    "                  columns=branches+additional_branches+['labels'])\n",
    "test_data_with_labels = pd.DataFrame(np.hstack((test_data, test_labels.reshape(test_labels.shape[0], -1))),\n",
    "                  columns=branches+additional_branches+['labels'])\n",
    "\n",
    "train_data_signal_with_labels = train_data_with_labels.loc[train_data_with_labels['labels']>0.5]\n",
    "train_data_background_with_labels = train_data_with_labels.loc[train_data_with_labels['labels']<0.5]\n",
    "test_data_signal_with_labels = test_data_with_labels.loc[test_data_with_labels['labels']>0.5]\n",
    "test_data_background_with_labels = test_data_with_labels.loc[test_data_with_labels['labels']<0.5]"
   ]
  },
  {
   "cell_type": "code",
   "execution_count": 18,
   "metadata": {},
   "outputs": [
    {
     "name": "stdout",
     "output_type": "stream",
     "text": [
      "3992\n",
      "1025\n",
      "7826\n",
      "1930\n"
     ]
    }
   ],
   "source": [
    "print train_data_signal_with_labels.shape[0]\n",
    "print test_data_signal_with_labels.shape[0]\n",
    "print train_data_background_with_labels.shape[0]\n",
    "print test_data_background_with_labels.shape[0]"
   ]
  },
  {
   "cell_type": "code",
   "execution_count": 19,
   "metadata": {},
   "outputs": [
    {
     "name": "stdout",
     "output_type": "stream",
     "text": [
      "Percentage of signal events in sidebands (normalised to total signal events after trigger cuts): 1.33116883117 %\n"
     ]
    }
   ],
   "source": [
    "#fraction of signal events in sidebands\n",
    "tot = MC_tree.GetEntries((cuts.Lb_Lemu_matching+cuts.Lb_Lemu_trigger_run2_full).GetTitle())\n",
    "side = MC_tree.GetEntries((cuts.Lb_Lemu_matching+cuts.Lb_Lemu_trigger_run2_full+cuts.Lb_Lemu_sidebands).GetTitle())\n",
    "print \"Percentage of signal events in sidebands (normalised to total signal events after trigger cuts):\", 100.*side/tot, \"%\""
   ]
  },
  {
   "cell_type": "code",
   "execution_count": 20,
   "metadata": {
    "collapsed": true
   },
   "outputs": [],
   "source": [
    "from tools.plot_sig_bkg import plot_sig_bkg\n",
    "import imp\n",
    "import sys\n",
    "imp.reload (sys.modules['tools.plot_sig_bkg'])\n",
    "for var in branches+additional_branches:\n",
    "    plot_sig_bkg(train_data_signal_with_labels, train_data_background_with_labels, var, plots_dir)\n"
   ]
  },
  {
   "cell_type": "code",
   "execution_count": 21,
   "metadata": {
    "collapsed": true
   },
   "outputs": [],
   "source": [
    "import imp\n",
    "import sys\n",
    "from math import exp, log\n",
    "from tools.features_selection import entropy\n",
    "from tools.features_selection import entropy_normalised\n",
    "\n",
    "\n",
    "imp.reload (sys.modules['tools.features_selection'])\n",
    "from tools.features_selection import entropy\n",
    "\n",
    "\n",
    "scores = []\n",
    "for branch in branches:\n",
    "    res = entropy(train_data_signal_with_labels, train_data_background_with_labels, branch)\n",
    "    scores.append(1./res['min entropy'])\n",
    "\n",
    "branches_with_scores = pd.DataFrame(\n",
    "    {'variable': branches,\n",
    "     'score': scores,\n",
    "    })\n",
    "\n",
    "branches_with_scores=branches_with_scores.sort_values(by='score', ascending=False)"
   ]
  },
  {
   "cell_type": "code",
   "execution_count": 22,
   "metadata": {
    "collapsed": true,
    "scrolled": true
   },
   "outputs": [],
   "source": [
    "fig = plt.figure(figsize=(10,10))\n",
    "ax = fig.add_subplot(111)\n",
    "pos = np.arange(5)+.5    # the bar centers on the y axis\n",
    "ax.barh(range(len(branches_with_scores['variable'])),branches_with_scores['score'], align='center')\n",
    "plt.yticks(range(len(branches_with_scores['variable'])), branches_with_scores['variable'])\n",
    "plt.xlabel('Score')\n",
    "plt.title(r'Input variables scores (entropy$^{-1}$)')\n",
    "plt.tight_layout()\n",
    "plt.ylim([-1,len(branches_with_scores['variable'])])\n",
    "plt.gca().invert_yaxis() #otherwise it's lowest to highest\n",
    "plt.savefig(plots_dir+\"/scores.pdf\") #replace is necessary for slashes, otherwise part of the name\n",
    "plt.show()"
   ]
  },
  {
   "cell_type": "code",
   "execution_count": 23,
   "metadata": {
    "collapsed": true
   },
   "outputs": [],
   "source": [
    "training_variables = branches_with_scores['variable'][:15].values.tolist() #the 15 best scored variables"
   ]
  },
  {
   "cell_type": "code",
   "execution_count": 24,
   "metadata": {
    "collapsed": true
   },
   "outputs": [],
   "source": [
    "#now we have to change names to the input variables removing the mathematical symbols, otherwise tmva gets confused\n",
    "branches = [var.replace(\"+\",\"_PLUS_\").replace(\"-\",\"_MINUS_\").replace(\"*\",\"_TIMES_\").replace(\"/\",\"_OVER_\") for var in branches]\n",
    "training_variables = [var.replace(\"+\",\"_PLUS_\").replace(\"-\",\"_MINUS_\").replace(\"*\",\"_TIMES_\").replace(\"/\",\"_OVER_\") for var in training_variables]\n",
    "train_data.columns = [var.replace(\"+\",\"_PLUS_\").replace(\"-\",\"_MINUS_\").replace(\"*\",\"_TIMES_\").replace(\"/\",\"_OVER_\") for var in train_data.columns]\n",
    "test_data.columns = [var.replace(\"+\",\"_PLUS_\").replace(\"-\",\"_MINUS_\").replace(\"*\",\"_TIMES_\").replace(\"/\",\"_OVER_\") for var in test_data.columns]\n"
   ]
  },
  {
   "cell_type": "code",
   "execution_count": 25,
   "metadata": {
    "collapsed": true
   },
   "outputs": [],
   "source": [
    "sys.stdout = default_stdout\n",
    "\n",
    "\n",
    "#prepare normalised set for skMLP\n",
    "from sklearn.preprocessing import StandardScaler  \n",
    "scaler = StandardScaler()  \n",
    "scaler.fit(train_data[training_variables])  \n",
    "train_data_scaled = scaler.transform(train_data[training_variables])  \n",
    "# apply same transformation to test data\n",
    "test_data_scaled = scaler.transform(test_data[training_variables])  \n",
    "\n",
    "scaled_training_variables = [var+\"_scaled\" for var in training_variables]\n",
    "train_data_with_scaled_vars = pd.DataFrame(np.hstack((train_data, train_data_scaled.reshape(train_data_scaled.shape[0], -1))),\n",
    "                  columns=(branches+additional_branches+scaled_training_variables))\n",
    "\n",
    "test_data_with_scaled_vars = pd.DataFrame(np.hstack((test_data, test_data_scaled.reshape(test_data_scaled.shape[0], -1))),\n",
    "                  columns=(branches+additional_branches+scaled_training_variables))\n",
    "\n",
    "\n",
    "\n",
    "#re-do the dataframes with labels\n",
    "train_data_with_scaled_vars_with_labels = pd.DataFrame(np.hstack((train_data_with_scaled_vars, train_labels.reshape(train_labels.shape[0], -1))),\n",
    "                  columns=branches+additional_branches+scaled_training_variables+['labels'])\n",
    "test_data_with_scaled_vars_with_labels = pd.DataFrame(np.hstack((test_data_with_scaled_vars, test_labels.reshape(test_labels.shape[0], -1))),\n",
    "                  columns=branches+additional_branches+scaled_training_variables+['labels'])\n"
   ]
  },
  {
   "cell_type": "code",
   "execution_count": 26,
   "metadata": {
    "collapsed": true
   },
   "outputs": [],
   "source": [
    "from math import floor\n",
    "#The goal here is to optimise all the classifiers before comparing them\n",
    "\n",
    "#So now we define grid search params for each classifier\n",
    "grid_params = {} #empty dictionary (of dictionaries) of grid params\n",
    "classifiers = {} #empty dictionary of classifiers\n",
    "\n",
    "classifiers['TMVA_kBDT'] = TMVAClassifier(method='kBDT', features=training_variables)\n",
    "grid_params['TMVA_kBDT'] = {}\n",
    "grid_params['TMVA_kBDT']['Ntrees'] = randint(400, 2500)\n",
    "grid_params['TMVA_kBDT']['MaxDepth'] = randint(2,6)\n",
    "grid_params['TMVA_kBDT']['MinNodeSize'] = ['0.2%', '0.3%', '0.5%', '1%', '2%', '3%']\n",
    "grid_params['TMVA_kBDT']['NCuts'] = randint(10,40)\n",
    "grid_params['TMVA_kBDT']['AdaBoostBeta'] = uniform(0.05, 0.4)\n",
    "\n",
    "classifiers['xgboost'] = XGBoostClassifier(features=training_variables)\n",
    "grid_params['xgboost'] = {}\n",
    "grid_params['xgboost']['n_estimators'] = randint(200, 2500)\n",
    "#grid_params['xgboost']['gamma'] = randint(0, 1000) #minimum loss reduction required to make a further partition on a leaf node of the tree. The larger, the more conservative the algorithm will be.\n",
    "grid_params['xgboost']['max_depth'] = randint(2,6)\n",
    "grid_params['xgboost']['min_child_weight'] = randint(1,20)\n",
    "\n",
    "classifiers['skboost'] = SklearnClassifier(GradientBoostingClassifier(), features=training_variables)\n",
    "grid_params['skboost'] = {}\n",
    "grid_params['skboost']['loss'] = ['deviance', 'exponential']\n",
    "grid_params['skboost']['n_estimators'] = randint(50, 500)\n",
    "grid_params['skboost']['max_depth'] = randint(2,6)\n",
    "grid_params['skboost']['learning_rate'] = uniform(0.01, 0.2)\n",
    "grid_params['skboost']['min_weight_fraction_leaf'] = uniform(0,0.05)\n",
    "\"\"\"\n",
    "classifiers['Theanets'] = TheanetsClassifier(features=training_variables)\n",
    "#filling list of possible sized of layers for Theanets\n",
    "list_layers_theanets = [] \n",
    "\n",
    "for i in range(10): #10 different random configurations for each lenght\n",
    "    for i in range(1,10):\n",
    "        layer = []#[len(training_variables)] # the firs element is the size of the input layer\n",
    "        for j in range(i):\n",
    "            layer.append(random.randint(300,500))\n",
    "        list_layers_theanets.append(layer)\n",
    "    \n",
    "t = len(training_variables)\n",
    "grid_params['Theanets'] = {}\n",
    "grid_params['Theanets']['layers'] = [(t+1,), (t-1,), (t+2,), (t-2,), (t+1, t+2), (t-1, t-2),\n",
    "                                     (floor(t/2),), (floor(t/2), floor(t/2)-1),\n",
    "                                     (floor(t/2), floor(t/2)-2),\n",
    "                                    (floor(t/2)+2, floor(t/2)-2)]#list_layers_theanets #layers configuration\n",
    "\n",
    "grid_params['Theanets']['trainers']=[[{'learning_rate': 0.1, 'min_improvement': 0.1}],\n",
    "                                    [{'learning_rate': 0.2, 'min_improvement': 0.1}],\n",
    "                                    [{'learning_rate': 0.3, 'min_improvement': 0.1}],\n",
    "                                    [{'learning_rate': 0.1, 'min_improvement': 0.2}],\n",
    "                                    [{'learning_rate': 0.2, 'min_improvement': 0.2}],\n",
    "                                    [{'learning_rate': 0.3, 'min_improvement': 0.2}],\n",
    "                                    [{'learning_rate': 0.1, 'min_improvement': 0.3}],\n",
    "                                    [{'learning_rate': 0.2, 'min_improvement': 0.3}],\n",
    "                                    [{'learning_rate': 0.3, 'min_improvement': 0.3}],\n",
    "                                    [{'learning_rate': 0.1, 'min_improvement': 0.4}],\n",
    "                                    [{'learning_rate': 0.2, 'min_improvement': 0.4}],\n",
    "                                    [{'learning_rate': 0.3, 'min_improvement': 0.4}]]\n",
    "\"\"\"\n",
    "classifiers['skMLP'] = SklearnClassifier(MLPClassifier(), features=scaled_training_variables) #this needs the scaled variables\n",
    "list_layers_skMLP = []\n",
    "for k in range(5,50):\n",
    "    for i in range(1,5):\n",
    "        tuple_layer = ()\n",
    "        kk=k\n",
    "        for j in range(i):\n",
    "            tuple_layer+=(kk,)\n",
    "            kk = kk-1\n",
    "        list_layers_skMLP.append(tuple_layer)     \n",
    "        \n",
    "grid_params['skMLP'] = {}\n",
    "#grid_params['skMLP']['activation'] = ['identity', 'logistic', 'tanh', 'relu']\n",
    "grid_params['skMLP']['solver'] = ['lbfgs', 'adam']#, 'sgd']\n",
    "grid_params['skMLP']['hidden_layer_sizes'] = list_layers_skMLP #hidden layer configuration\n",
    "grid_params['skMLP']['learning_rate_init'] = uniform(0.001, 0.2)\n",
    "grid_params['skMLP']['alpha'] = 10.0 ** -np.arange(1, 7)\n",
    "\n",
    "\n",
    "# Using gradient boosting with default settings\n",
    "classifiers['GaussNB'] = SklearnClassifier(GaussianNB(), features=training_variables) #if I understand correctly this has only one parameter, which is better to leave free\n"
   ]
  },
  {
   "cell_type": "code",
   "execution_count": 27,
   "metadata": {},
   "outputs": [
    {
     "name": "stderr",
     "output_type": "stream",
     "text": [
      "/home/guido/anaconda3/envs/py27/lib/python2.7/site-packages/sklearn/base.py:122: DeprecationWarning: Estimator SklearnClassifier modifies parameters in __init__. This behavior is deprecated as of 0.18 and support for this behavior will be removed in 0.20.\n",
      "  % type(estimator).__name__, DeprecationWarning)\n",
      "/home/guido/anaconda3/envs/py27/lib/python2.7/site-packages/sklearn/base.py:122: DeprecationWarning: Estimator SklearnClassifier modifies parameters in __init__. This behavior is deprecated as of 0.18 and support for this behavior will be removed in 0.20.\n",
      "  % type(estimator).__name__, DeprecationWarning)\n",
      "/home/guido/anaconda3/envs/py27/lib/python2.7/site-packages/sklearn/base.py:122: DeprecationWarning: Estimator SklearnClassifier modifies parameters in __init__. This behavior is deprecated as of 0.18 and support for this behavior will be removed in 0.20.\n",
      "  % type(estimator).__name__, DeprecationWarning)\n",
      "/home/guido/anaconda3/envs/py27/lib/python2.7/site-packages/sklearn/base.py:122: DeprecationWarning: Estimator SklearnClassifier modifies parameters in __init__. This behavior is deprecated as of 0.18 and support for this behavior will be removed in 0.20.\n",
      "  % type(estimator).__name__, DeprecationWarning)\n",
      "/home/guido/anaconda3/envs/py27/lib/python2.7/site-packages/sklearn/base.py:122: DeprecationWarning: Estimator SklearnClassifier modifies parameters in __init__. This behavior is deprecated as of 0.18 and support for this behavior will be removed in 0.20.\n",
      "  % type(estimator).__name__, DeprecationWarning)\n",
      "/home/guido/anaconda3/envs/py27/lib/python2.7/site-packages/sklearn/base.py:122: DeprecationWarning: Estimator SklearnClassifier modifies parameters in __init__. This behavior is deprecated as of 0.18 and support for this behavior will be removed in 0.20.\n",
      "  % type(estimator).__name__, DeprecationWarning)\n",
      "/home/guido/anaconda3/envs/py27/lib/python2.7/site-packages/sklearn/base.py:122: DeprecationWarning: Estimator SklearnClassifier modifies parameters in __init__. This behavior is deprecated as of 0.18 and support for this behavior will be removed in 0.20.\n",
      "  % type(estimator).__name__, DeprecationWarning)\n",
      "/home/guido/anaconda3/envs/py27/lib/python2.7/site-packages/sklearn/base.py:122: DeprecationWarning: Estimator SklearnClassifier modifies parameters in __init__. This behavior is deprecated as of 0.18 and support for this behavior will be removed in 0.20.\n",
      "  % type(estimator).__name__, DeprecationWarning)\n",
      "/home/guido/anaconda3/envs/py27/lib/python2.7/site-packages/sklearn/base.py:122: DeprecationWarning: Estimator SklearnClassifier modifies parameters in __init__. This behavior is deprecated as of 0.18 and support for this behavior will be removed in 0.20.\n",
      "  % type(estimator).__name__, DeprecationWarning)\n",
      "/home/guido/anaconda3/envs/py27/lib/python2.7/site-packages/sklearn/base.py:122: DeprecationWarning: Estimator SklearnClassifier modifies parameters in __init__. This behavior is deprecated as of 0.18 and support for this behavior will be removed in 0.20.\n",
      "  % type(estimator).__name__, DeprecationWarning)\n",
      "/home/guido/anaconda3/envs/py27/lib/python2.7/site-packages/sklearn/base.py:122: DeprecationWarning: Estimator SklearnClassifier modifies parameters in __init__. This behavior is deprecated as of 0.18 and support for this behavior will be removed in 0.20.\n",
      "  % type(estimator).__name__, DeprecationWarning)\n",
      "/home/guido/anaconda3/envs/py27/lib/python2.7/site-packages/sklearn/base.py:122: DeprecationWarning: Estimator SklearnClassifier modifies parameters in __init__. This behavior is deprecated as of 0.18 and support for this behavior will be removed in 0.20.\n",
      "  % type(estimator).__name__, DeprecationWarning)\n",
      "/home/guido/anaconda3/envs/py27/lib/python2.7/site-packages/sklearn/base.py:122: DeprecationWarning: Estimator SklearnClassifier modifies parameters in __init__. This behavior is deprecated as of 0.18 and support for this behavior will be removed in 0.20.\n",
      "  % type(estimator).__name__, DeprecationWarning)\n",
      "/home/guido/anaconda3/envs/py27/lib/python2.7/site-packages/sklearn/base.py:122: DeprecationWarning: Estimator SklearnClassifier modifies parameters in __init__. This behavior is deprecated as of 0.18 and support for this behavior will be removed in 0.20.\n",
      "  % type(estimator).__name__, DeprecationWarning)\n",
      "/home/guido/anaconda3/envs/py27/lib/python2.7/site-packages/sklearn/base.py:122: DeprecationWarning: Estimator SklearnClassifier modifies parameters in __init__. This behavior is deprecated as of 0.18 and support for this behavior will be removed in 0.20.\n",
      "  % type(estimator).__name__, DeprecationWarning)\n",
      "/home/guido/anaconda3/envs/py27/lib/python2.7/site-packages/sklearn/base.py:122: DeprecationWarning: Estimator SklearnClassifier modifies parameters in __init__. This behavior is deprecated as of 0.18 and support for this behavior will be removed in 0.20.\n",
      "  % type(estimator).__name__, DeprecationWarning)\n",
      "/home/guido/anaconda3/envs/py27/lib/python2.7/site-packages/sklearn/base.py:122: DeprecationWarning: Estimator XGBoostClassifier modifies parameters in __init__. This behavior is deprecated as of 0.18 and support for this behavior will be removed in 0.20.\n",
      "  % type(estimator).__name__, DeprecationWarning)\n",
      "/home/guido/anaconda3/envs/py27/lib/python2.7/site-packages/sklearn/base.py:122: DeprecationWarning: Estimator XGBoostClassifier modifies parameters in __init__. This behavior is deprecated as of 0.18 and support for this behavior will be removed in 0.20.\n",
      "  % type(estimator).__name__, DeprecationWarning)\n",
      "/home/guido/anaconda3/envs/py27/lib/python2.7/site-packages/sklearn/base.py:122: DeprecationWarning: Estimator XGBoostClassifier modifies parameters in __init__. This behavior is deprecated as of 0.18 and support for this behavior will be removed in 0.20.\n",
      "  % type(estimator).__name__, DeprecationWarning)\n",
      "/home/guido/anaconda3/envs/py27/lib/python2.7/site-packages/sklearn/base.py:122: DeprecationWarning: Estimator XGBoostClassifier modifies parameters in __init__. This behavior is deprecated as of 0.18 and support for this behavior will be removed in 0.20.\n",
      "  % type(estimator).__name__, DeprecationWarning)\n",
      "/home/guido/anaconda3/envs/py27/lib/python2.7/site-packages/sklearn/base.py:122: DeprecationWarning: Estimator XGBoostClassifier modifies parameters in __init__. This behavior is deprecated as of 0.18 and support for this behavior will be removed in 0.20.\n",
      "  % type(estimator).__name__, DeprecationWarning)\n",
      "/home/guido/anaconda3/envs/py27/lib/python2.7/site-packages/sklearn/base.py:122: DeprecationWarning: Estimator XGBoostClassifier modifies parameters in __init__. This behavior is deprecated as of 0.18 and support for this behavior will be removed in 0.20.\n",
      "  % type(estimator).__name__, DeprecationWarning)\n",
      "/home/guido/anaconda3/envs/py27/lib/python2.7/site-packages/sklearn/base.py:122: DeprecationWarning: Estimator XGBoostClassifier modifies parameters in __init__. This behavior is deprecated as of 0.18 and support for this behavior will be removed in 0.20.\n",
      "  % type(estimator).__name__, DeprecationWarning)\n",
      "/home/guido/anaconda3/envs/py27/lib/python2.7/site-packages/sklearn/base.py:122: DeprecationWarning: Estimator XGBoostClassifier modifies parameters in __init__. This behavior is deprecated as of 0.18 and support for this behavior will be removed in 0.20.\n",
      "  % type(estimator).__name__, DeprecationWarning)\n",
      "/home/guido/anaconda3/envs/py27/lib/python2.7/site-packages/sklearn/base.py:122: DeprecationWarning: Estimator TMVAClassifier modifies parameters in __init__. This behavior is deprecated as of 0.18 and support for this behavior will be removed in 0.20.\n",
      "  % type(estimator).__name__, DeprecationWarning)\n",
      "/home/guido/anaconda3/envs/py27/lib/python2.7/site-packages/sklearn/base.py:122: DeprecationWarning: Estimator TMVAClassifier modifies parameters in __init__. This behavior is deprecated as of 0.18 and support for this behavior will be removed in 0.20.\n",
      "  % type(estimator).__name__, DeprecationWarning)\n",
      "/home/guido/anaconda3/envs/py27/lib/python2.7/site-packages/sklearn/base.py:122: DeprecationWarning: Estimator TMVAClassifier modifies parameters in __init__. This behavior is deprecated as of 0.18 and support for this behavior will be removed in 0.20.\n",
      "  % type(estimator).__name__, DeprecationWarning)\n",
      "/home/guido/anaconda3/envs/py27/lib/python2.7/site-packages/sklearn/base.py:122: DeprecationWarning: Estimator TMVAClassifier modifies parameters in __init__. This behavior is deprecated as of 0.18 and support for this behavior will be removed in 0.20.\n",
      "  % type(estimator).__name__, DeprecationWarning)\n",
      "/home/guido/anaconda3/envs/py27/lib/python2.7/site-packages/sklearn/base.py:122: DeprecationWarning: Estimator TMVAClassifier modifies parameters in __init__. This behavior is deprecated as of 0.18 and support for this behavior will be removed in 0.20.\n",
      "  % type(estimator).__name__, DeprecationWarning)\n",
      "/home/guido/anaconda3/envs/py27/lib/python2.7/site-packages/sklearn/base.py:122: DeprecationWarning: Estimator TMVAClassifier modifies parameters in __init__. This behavior is deprecated as of 0.18 and support for this behavior will be removed in 0.20.\n",
      "  % type(estimator).__name__, DeprecationWarning)\n",
      "/home/guido/anaconda3/envs/py27/lib/python2.7/site-packages/sklearn/base.py:122: DeprecationWarning: Estimator TMVAClassifier modifies parameters in __init__. This behavior is deprecated as of 0.18 and support for this behavior will be removed in 0.20.\n",
      "  % type(estimator).__name__, DeprecationWarning)\n",
      "/home/guido/anaconda3/envs/py27/lib/python2.7/site-packages/sklearn/base.py:122: DeprecationWarning: Estimator TMVAClassifier modifies parameters in __init__. This behavior is deprecated as of 0.18 and support for this behavior will be removed in 0.20.\n",
      "  % type(estimator).__name__, DeprecationWarning)\n"
     ]
    }
   ],
   "source": [
    "from tools.auc_no_overtrain import auc_no_overtrain\n",
    "import datetime\n",
    "#.strftime(\"%Y-%m-%d_%H:%M:%S\")\n",
    "    \n",
    "#for each estimator, run the grid search\n",
    "grid_finder = {}\n",
    "\n",
    "\n",
    "for classifier in classifiers:\n",
    "    if classifier is 'GaussNB': continue #GaussNB doesn't need to be optimised\n",
    " \n",
    "    sys.stdout = open(output_dir+'/stdout_{1}.txt'.format(tag, classifier), 'w')\n",
    "    now = datetime.datetime.now()\n",
    "    print now\n",
    "    generator = RandomParameterOptimizer(grid_params[classifier], n_evaluations=4)\n",
    "    estimator = classifiers[classifier]\n",
    "    scorer = auc_no_overtrain(train_data_with_scaled_vars_with_labels, test_data_with_scaled_vars_with_labels)\n",
    "    grid_finder[classifier] = GridOptimalSearchCV(estimator, generator, scorer, parallel_profile='threads-4')\n",
    "    grid_finder[classifier].fit(train_data_with_scaled_vars, train_labels)\n",
    "    sys.stdout = open(output_dir+'/scores_{1}.txt'.format(tag, classifier), 'w')\n",
    "    now = datetime.datetime.now()\n",
    "    print now\n",
    "    grid_finder[classifier].params_generator.print_results()\n",
    "    \n",
    "sys.stdout = default_stdout\n"
   ]
  },
  {
   "cell_type": "code",
   "execution_count": 28,
   "metadata": {},
   "outputs": [
    {
     "name": "stdout",
     "output_type": "stream",
     "text": [
      "Training  skboost ...\n",
      "done!\n",
      "Training  GaussNB ...\n",
      "done!\n",
      "Training  skMLP ...\n",
      "done!\n",
      "Training  xgboost ...\n",
      "done!\n",
      "Training  TMVA_kBDT ...\n",
      "DataSetInfo              : [./] : Added class \"Signal\"\n",
      "DataSetInfo              : [./] : Added class \"Background\"\n",
      "                         : Add Tree TrainAssignTree_Signal of type Signal with 3992 events\n",
      "                         : Add Tree TestAssignTree_Signal of type Signal with 3992 events\n",
      "                         : Add Tree TrainAssignTree_Background of type Background with 7826 events\n",
      "                         : Add Tree TestAssignTree_Background of type Background with 7826 events\n",
      "                         : Dataset[./] : Class index : 0  name : Signal\n",
      "                         : Dataset[./] : Class index : 1  name : Background\n",
      "Factory                  : Booking method: \u001b[1mREP_Estimator\u001b[0m\n",
      "                         : \n",
      "DataSetFactory           : [./] : Number of events in input trees\n",
      "                         : Dataset[./] :     Signal     requirement: \"1\"\n",
      "                         : Dataset[./] :     Signal          -- number of events passed: 7984   / sum of weights: 7984 \n",
      "                         : Dataset[./] :     Signal          -- efficiency             : 1     \n",
      "                         : Dataset[./] :     Background requirement: \"1\"\n",
      "                         : Dataset[./] :     Background      -- number of events passed: 15652  / sum of weights: 15652\n",
      "                         : Dataset[./] :     Background      -- efficiency             : 1     \n",
      "                         : \n",
      "                         : \n",
      "                         : Dataset[./] : Weight renormalisation mode: \"EqualNumEvents\": renormalises all event classes ...\n",
      "                         : Dataset[./] :  such that the effective (weighted) number of events in each class is the same \n",
      "                         : Dataset[./] :  (and equals the number of events (entries) given for class=0 )\n",
      "                         : Dataset[./] : ... i.e. such that Sum[i=1..N_j]{w_i} = N_classA, j=classA, classB, ...\n",
      "                         : Dataset[./] : ... (note that N_j is the sum of TRAINING events\n",
      "                         : Dataset[./] :  ..... Testing events are not renormalised nor included in the renormalisation factor!)\n",
      "                         : Number of training and testing events\n",
      "                         : ---------------------------------------------------------------------------\n",
      "                         : Signal     -- training events            : 3992\n",
      "                         : Signal     -- testing events             : 3992\n",
      "                         : Signal     -- training and testing events: 7984\n",
      "                         : Background -- training events            : 7826\n",
      "                         : Background -- testing events             : 7826\n",
      "                         : Background -- training and testing events: 15652\n",
      "                         : \n",
      "DataSetInfo              : Correlation matrix (Signal):\n",
      "                         : ------------------------------------------------------------------------------------------------------------------------------------------------------------------------------------------------------------------------------------------------------------------------------------------------------------------------------------------------------------------------------------------------------------------------------------------------------\n",
      "                         :                                           Lb_hop_LoKi_mass_bv Lb_IPCHI2_OWNPV Lb_IP_OWNPV L0_ORIVX_CHI2 Lb_VtxIsoBDT_VTXISOBDTHARDFIRSTVALUE Lb_TrackIsoBDTInfoL2_TRKISOBDTFIRSTVALUE Lb_TrackIsoBDTInfoH2_TRKISOBDTFIRSTVALUE    p_PT Lb_TrackIsoBDTInfoL1_TRKISOBDTFIRSTVALUE Lb_TrackIsoBDTInfoH1_TRKISOBDTFIRSTVALUE   L0_PT Lb_ConeIsoInfoH2_CC_PTASYM Lb_ConeIsoInfoL2_CC_PTASYM l1_IPCHI2_OWNPV_PLUS_l2_IPCHI2_OWNPV Lb_TrackIsoInfoH1_CONEMULT\n",
      "                         :                      Lb_hop_LoKi_mass_bv:              +1.000          -0.248      -0.115        -0.004                               +0.001                                   -0.006                                   +0.009  +0.011                                   -0.003                                   +0.000  +0.009                     +0.082                     -0.007                               +0.018                     -0.010\n",
      "                         :                          Lb_IPCHI2_OWNPV:              -0.248          +1.000      +0.771        +0.048                               +0.037                                   +0.019                                   -0.012  +0.000                                   +0.021                                   -0.006  -0.001                     -0.039                     -0.051                               +0.081                     +0.025\n",
      "                         :                              Lb_IP_OWNPV:              -0.115          +0.771      +1.000        +0.017                               -0.006                                   -0.058                                   -0.075  -0.008                                   -0.058                                   -0.070  -0.009                     +0.015                     +0.006                               +0.053                     -0.035\n",
      "                         :                            L0_ORIVX_CHI2:              -0.004          +0.048      +0.017        +1.000                               +0.002                                   +0.006                                   +0.024  +0.006                                   +0.004                                   +0.027  +0.005                     -0.024                     -0.020                               -0.003                     +0.018\n",
      "                         :     Lb_VtxIsoBDT_VTXISOBDTHARDFIRSTVALUE:              +0.001          +0.037      -0.006        +0.002                               +1.000                                   +0.074                                   +0.074  -0.210                                   +0.082                                   +0.080  -0.214                     -0.204                     -0.215                               -0.033                     +0.266\n",
      "                         : Lb_TrackIsoBDTInfoL2_TRKISOBDTFIRSTVALUE:              -0.006          +0.019      -0.058        +0.006                               +0.074                                   +1.000                                   -0.283  -0.062                                   +0.853                                   -0.293  -0.062                     -0.182                     +0.146                               -0.095                     +0.040\n",
      "                         : Lb_TrackIsoBDTInfoH2_TRKISOBDTFIRSTVALUE:              +0.009          -0.012      -0.075        +0.024                               +0.074                                   -0.283                                   +1.000  -0.009                                   -0.279                                   +0.845  -0.011                     +0.138                     -0.167                               -0.083                     +0.061\n",
      "                         :                                     p_PT:              +0.011          +0.000      -0.008        +0.006                               -0.210                                   -0.062                                   -0.009  +1.000                                   -0.074                                   -0.016  +0.995                     +0.113                     +0.086                               +0.040                     +0.009\n",
      "                         : Lb_TrackIsoBDTInfoL1_TRKISOBDTFIRSTVALUE:              -0.003          +0.021      -0.058        +0.004                               +0.082                                   +0.853                                   -0.279  -0.074                                   +1.000                                   -0.290  -0.075                     -0.186                     +0.107                               -0.086                     +0.041\n",
      "                         : Lb_TrackIsoBDTInfoH1_TRKISOBDTFIRSTVALUE:              +0.000          -0.006      -0.070        +0.027                               +0.080                                   -0.293                                   +0.845  -0.016                                   -0.290                                   +1.000  -0.019                     +0.129                     -0.167                               -0.091                     +0.064\n",
      "                         :                                    L0_PT:              +0.009          -0.001      -0.009        +0.005                               -0.214                                   -0.062                                   -0.011  +0.995                                   -0.075                                   -0.019  +1.000                     +0.115                     +0.089                               +0.038                     +0.007\n",
      "                         :               Lb_ConeIsoInfoH2_CC_PTASYM:              +0.082          -0.039      +0.015        -0.024                               -0.204                                   -0.182                                   +0.138  +0.113                                   -0.186                                   +0.129  +0.115                     +1.000                     +0.082                               +0.013                     -0.373\n",
      "                         :               Lb_ConeIsoInfoL2_CC_PTASYM:              -0.007          -0.051      +0.006        -0.020                               -0.215                                   +0.146                                   -0.167  +0.086                                   +0.107                                   -0.167  +0.089                     +0.082                     +1.000                               -0.003                     -0.218\n",
      "                         :     l1_IPCHI2_OWNPV_PLUS_l2_IPCHI2_OWNPV:              +0.018          +0.081      +0.053        -0.003                               -0.033                                   -0.095                                   -0.083  +0.040                                   -0.086                                   -0.091  +0.038                     +0.013                     -0.003                               +1.000                     -0.008\n",
      "                         :               Lb_TrackIsoInfoH1_CONEMULT:              -0.010          +0.025      -0.035        +0.018                               +0.266                                   +0.040                                   +0.061  +0.009                                   +0.041                                   +0.064  +0.007                     -0.373                     -0.218                               -0.008                     +1.000\n",
      "                         : ------------------------------------------------------------------------------------------------------------------------------------------------------------------------------------------------------------------------------------------------------------------------------------------------------------------------------------------------------------------------------------------------------------------------------------------------------\n",
      "DataSetInfo              : Correlation matrix (Background):\n",
      "                         : ------------------------------------------------------------------------------------------------------------------------------------------------------------------------------------------------------------------------------------------------------------------------------------------------------------------------------------------------------------------------------------------------------------------------------------------------------\n",
      "                         :                                           Lb_hop_LoKi_mass_bv Lb_IPCHI2_OWNPV Lb_IP_OWNPV L0_ORIVX_CHI2 Lb_VtxIsoBDT_VTXISOBDTHARDFIRSTVALUE Lb_TrackIsoBDTInfoL2_TRKISOBDTFIRSTVALUE Lb_TrackIsoBDTInfoH2_TRKISOBDTFIRSTVALUE    p_PT Lb_TrackIsoBDTInfoL1_TRKISOBDTFIRSTVALUE Lb_TrackIsoBDTInfoH1_TRKISOBDTFIRSTVALUE   L0_PT Lb_ConeIsoInfoH2_CC_PTASYM Lb_ConeIsoInfoL2_CC_PTASYM l1_IPCHI2_OWNPV_PLUS_l2_IPCHI2_OWNPV Lb_TrackIsoInfoH1_CONEMULT\n",
      "                         :                      Lb_hop_LoKi_mass_bv:              +1.000          +0.106      +0.153        +0.059                               +0.051                                   -0.081                                   -0.079  -0.091                                   -0.079                                   -0.084  -0.096                     -0.015                     -0.032                               -0.105                     +0.033\n",
      "                         :                          Lb_IPCHI2_OWNPV:              +0.106          +1.000      +0.656        +0.031                               +0.036                                   -0.003                                   -0.002  -0.057                                   +0.015                                   +0.008  -0.056                     -0.022                     -0.028                               +0.077                     +0.024\n",
      "                         :                              Lb_IP_OWNPV:              +0.153          +0.656      +1.000        +0.002                               +0.058                                   -0.174                                   -0.165  -0.176                                   -0.159                                   -0.156  -0.177                     +0.003                     +0.005                               +0.119                     -0.030\n",
      "                         :                            L0_ORIVX_CHI2:              +0.059          +0.031      +0.002        +1.000                               +0.047                                   +0.010                                   -0.007  -0.091                                   +0.018                                   -0.008  -0.100                     -0.055                     -0.071                               -0.000                     +0.050\n",
      "                         :     Lb_VtxIsoBDT_VTXISOBDTHARDFIRSTVALUE:              +0.051          +0.036      +0.058        +0.047                               +1.000                                   +0.003                                   +0.017  -0.118                                   -0.004                                   +0.021  -0.120                     -0.239                     -0.243                               +0.029                     +0.240\n",
      "                         : Lb_TrackIsoBDTInfoL2_TRKISOBDTFIRSTVALUE:              -0.081          -0.003      -0.174        +0.010                               +0.003                                   +1.000                                   +0.002  +0.262                                   +0.818                                   -0.001  +0.270                     -0.134                     +0.144                               -0.044                     +0.080\n",
      "                         : Lb_TrackIsoBDTInfoH2_TRKISOBDTFIRSTVALUE:              -0.079          -0.002      -0.165        -0.007                               +0.017                                   +0.002                                   +1.000  +0.254                                   -0.005                                   +0.822  +0.262                     +0.161                     -0.174                               -0.043                     +0.042\n",
      "                         :                                     p_PT:              -0.091          -0.057      -0.176        -0.091                               -0.118                                   +0.262                                   +0.254  +1.000                                   +0.255                                   +0.252  +0.993                     +0.060                     +0.062                               +0.006                     +0.048\n",
      "                         : Lb_TrackIsoBDTInfoL1_TRKISOBDTFIRSTVALUE:              -0.079          +0.015      -0.159        +0.018                               -0.004                                   +0.818                                   -0.005  +0.255                                   +1.000                                   -0.005  +0.262                     -0.138                     +0.158                               -0.041                     +0.072\n",
      "                         : Lb_TrackIsoBDTInfoH1_TRKISOBDTFIRSTVALUE:              -0.084          +0.008      -0.156        -0.008                               +0.021                                   -0.001                                   +0.822  +0.252                                   -0.005                                   +1.000  +0.260                     +0.165                     -0.171                               -0.038                     +0.063\n",
      "                         :                                    L0_PT:              -0.096          -0.056      -0.177        -0.100                               -0.120                                   +0.270                                   +0.262  +0.993                                   +0.262                                   +0.260  +1.000                     +0.063                     +0.062                               +0.004                     +0.050\n",
      "                         :               Lb_ConeIsoInfoH2_CC_PTASYM:              -0.015          -0.022      +0.003        -0.055                               -0.239                                   -0.134                                   +0.161  +0.060                                   -0.138                                   +0.165  +0.063                     +1.000                     +0.097                               +0.021                     -0.318\n",
      "                         :               Lb_ConeIsoInfoL2_CC_PTASYM:              -0.032          -0.028      +0.005        -0.071                               -0.243                                   +0.144                                   -0.174  +0.062                                   +0.158                                   -0.171  +0.062                     +0.097                     +1.000                               +0.018                     -0.234\n",
      "                         :     l1_IPCHI2_OWNPV_PLUS_l2_IPCHI2_OWNPV:              -0.105          +0.077      +0.119        -0.000                               +0.029                                   -0.044                                   -0.043  +0.006                                   -0.041                                   -0.038  +0.004                     +0.021                     +0.018                               +1.000                     -0.022\n",
      "                         :               Lb_TrackIsoInfoH1_CONEMULT:              +0.033          +0.024      -0.030        +0.050                               +0.240                                   +0.080                                   +0.042  +0.048                                   +0.072                                   +0.063  +0.050                     -0.318                     -0.234                               -0.022                     +1.000\n",
      "                         : ------------------------------------------------------------------------------------------------------------------------------------------------------------------------------------------------------------------------------------------------------------------------------------------------------------------------------------------------------------------------------------------------------------------------------------------------------\n",
      "DataSetFactory           : [./] :  \n",
      "                         : \n",
      "Factory                  : \u001b[1mTrain all methods\u001b[0m\n",
      "Factory                  : [./] : Create Transformation \"I\" with events from all classes.\n",
      "                         : \n",
      "                         : Transformation, Variable selection : \n",
      "                         : Input : variable 'Lb_hop_LoKi_mass_bv' <---> Output : variable 'Lb_hop_LoKi_mass_bv'\n",
      "                         : Input : variable 'Lb_IPCHI2_OWNPV' <---> Output : variable 'Lb_IPCHI2_OWNPV'\n",
      "                         : Input : variable 'Lb_IP_OWNPV' <---> Output : variable 'Lb_IP_OWNPV'\n",
      "                         : Input : variable 'L0_ORIVX_CHI2' <---> Output : variable 'L0_ORIVX_CHI2'\n",
      "                         : Input : variable 'Lb_VtxIsoBDT_VTXISOBDTHARDFIRSTVALUE' <---> Output : variable 'Lb_VtxIsoBDT_VTXISOBDTHARDFIRSTVALUE'\n",
      "                         : Input : variable 'Lb_TrackIsoBDTInfoL2_TRKISOBDTFIRSTVALUE' <---> Output : variable 'Lb_TrackIsoBDTInfoL2_TRKISOBDTFIRSTVALUE'\n",
      "                         : Input : variable 'Lb_TrackIsoBDTInfoH2_TRKISOBDTFIRSTVALUE' <---> Output : variable 'Lb_TrackIsoBDTInfoH2_TRKISOBDTFIRSTVALUE'\n",
      "                         : Input : variable 'p_PT' <---> Output : variable 'p_PT'\n",
      "                         : Input : variable 'Lb_TrackIsoBDTInfoL1_TRKISOBDTFIRSTVALUE' <---> Output : variable 'Lb_TrackIsoBDTInfoL1_TRKISOBDTFIRSTVALUE'\n",
      "                         : Input : variable 'Lb_TrackIsoBDTInfoH1_TRKISOBDTFIRSTVALUE' <---> Output : variable 'Lb_TrackIsoBDTInfoH1_TRKISOBDTFIRSTVALUE'\n",
      "                         : Input : variable 'L0_PT' <---> Output : variable 'L0_PT'\n",
      "                         : Input : variable 'Lb_ConeIsoInfoH2_CC_PTASYM' <---> Output : variable 'Lb_ConeIsoInfoH2_CC_PTASYM'\n",
      "                         : Input : variable 'Lb_ConeIsoInfoL2_CC_PTASYM' <---> Output : variable 'Lb_ConeIsoInfoL2_CC_PTASYM'\n",
      "                         : Input : variable 'l1_IPCHI2_OWNPV_PLUS_l2_IPCHI2_OWNPV' <---> Output : variable 'l1_IPCHI2_OWNPV_PLUS_l2_IPCHI2_OWNPV'\n",
      "                         : Input : variable 'Lb_TrackIsoInfoH1_CONEMULT' <---> Output : variable 'Lb_TrackIsoInfoH1_CONEMULT'\n",
      "TFHandler_Factory        :                                 Variable                                        Mean                                        RMS                                [        Min                                        Max ]\n",
      "                         : ---------------------------------------------------------------------------------------------------------------------------------------------------------------------------------------------------------------------------\n",
      "                         :                      Lb_hop_LoKi_mass_bv:                                    4996.2                                    927.34   [                                    2271.3                                    9676.0 ]\n",
      "                         :                          Lb_IPCHI2_OWNPV:                                    7.0852                                    6.8720   [                                1.0838e-05                                    25.013 ]\n",
      "                         :                              Lb_IP_OWNPV:                                  0.045620                                  0.031891   [                                5.0243e-05                                   0.24119 ]\n",
      "                         :                            L0_ORIVX_CHI2:                                    5.7700                                    6.0276   [                                 0.0035299                                    26.978 ]\n",
      "                         :     Lb_VtxIsoBDT_VTXISOBDTHARDFIRSTVALUE:                                  -0.34100                                   0.30854   [                                   -1.0000                                   0.35017 ]\n",
      "                         : Lb_TrackIsoBDTInfoL2_TRKISOBDTFIRSTVALUE:                                   0.12024                                   0.10154   [                                  -0.18290                                   0.36011 ]\n",
      "                         : Lb_TrackIsoBDTInfoH2_TRKISOBDTFIRSTVALUE:                                   0.12018                                   0.10143   [                                  -0.19641                                   0.36122 ]\n",
      "                         :                                     p_PT:                                    2081.1                                    1469.1   [                                    170.19                                    10619. ]\n",
      "                         : Lb_TrackIsoBDTInfoL1_TRKISOBDTFIRSTVALUE:                                   0.11975                                   0.10212   [                                  -0.17833                                   0.34423 ]\n",
      "                         : Lb_TrackIsoBDTInfoH1_TRKISOBDTFIRSTVALUE:                                   0.11977                                   0.10192   [                                  -0.18738                                   0.37006 ]\n",
      "                         :                                    L0_PT:                                    2496.1                                    1706.9   [                                    400.03                                    12550. ]\n",
      "                         :               Lb_ConeIsoInfoH2_CC_PTASYM:                                   0.30513                                   0.60548   [                                  -0.99907                                    1.0000 ]\n",
      "                         :               Lb_ConeIsoInfoL2_CC_PTASYM:                                   0.30999                                   0.60638   [                                  -0.99709                                    1.0000 ]\n",
      "                         :     l1_IPCHI2_OWNPV_PLUS_l2_IPCHI2_OWNPV:                                    1122.1                                    1357.4   [                                    21.019                                    7988.8 ]\n",
      "                         :               Lb_TrackIsoInfoH1_CONEMULT:                                    1.8433                                    1.7899   [                                    0.0000                                    10.000 ]\n",
      "                         : ---------------------------------------------------------------------------------------------------------------------------------------------------------------------------------------------------------------------------\n",
      "                         : Ranking input variables (method unspecific)...\n",
      "IdTransformation         : Ranking result (top variable is best ranked)\n",
      "                         : -----------------------------------------------------------------\n",
      "                         : Rank : Variable                                 : Separation\n",
      "                         : -----------------------------------------------------------------\n",
      "                         :    1 : Lb_hop_LoKi_mass_bv                      : 5.933e-01\n",
      "                         :    2 : Lb_IPCHI2_OWNPV                          : 3.259e-01\n",
      "                         :    3 : Lb_IP_OWNPV                              : 2.819e-01\n",
      "                         :    4 : L0_ORIVX_CHI2                            : 1.638e-01\n",
      "                         :    5 : Lb_VtxIsoBDT_VTXISOBDTHARDFIRSTVALUE     : 1.423e-01\n",
      "                         :    6 : p_PT                                     : 9.645e-02\n",
      "                         :    7 : L0_PT                                    : 9.177e-02\n",
      "                         :    8 : Lb_TrackIsoBDTInfoH2_TRKISOBDTFIRSTVALUE : 8.971e-02\n",
      "                         :    9 : Lb_TrackIsoBDTInfoL2_TRKISOBDTFIRSTVALUE : 8.520e-02\n",
      "                         :   10 : Lb_TrackIsoBDTInfoH1_TRKISOBDTFIRSTVALUE : 8.313e-02\n",
      "                         :   11 : Lb_TrackIsoBDTInfoL1_TRKISOBDTFIRSTVALUE : 8.091e-02\n",
      "                         :   12 : Lb_ConeIsoInfoH2_CC_PTASYM               : 6.338e-02\n",
      "                         :   13 : l1_IPCHI2_OWNPV_PLUS_l2_IPCHI2_OWNPV     : 6.295e-02\n",
      "                         :   14 : Lb_ConeIsoInfoL2_CC_PTASYM               : 6.048e-02\n",
      "                         :   15 : Lb_TrackIsoInfoH1_CONEMULT               : 3.552e-02\n",
      "                         : -----------------------------------------------------------------\n",
      "Factory                  : Train method: REP_Estimator for Classification\n",
      "                         : \n",
      "REP_Estimator            : #events: (reweighted) sig: 5909 bkg: 5909\n",
      "                         : #events: (unweighted) sig: 3992 bkg: 7826\n",
      "                         : Training 858 Decision Trees ... patience please\n",
      "                         : Elapsed time for training with 11818 events: \u001b[1;31m12.8 sec\u001b[0m         2m\u001b[33m>\u001b[0m\u001b[1;42m\u001b[33m>\u001b[0m\u001b[1;42m\u001b[33m>\u001b[0m\u001b[1;42m\u001b[33m>\u001b[0m\u001b[1;42m\u001b[33m>\u001b[0m\u001b[1;42m\u001b[33m>\u001b[0m\u001b[1;42m\u001b[33m>\u001b[0m\u001b[1;42m\u001b[33m>\u001b[0m\u001b[1;42m\u001b[33m>\u001b[0m\u001b[1;42m\u001b[33m>\u001b[0m\u001b[1;42m\u001b[33m>\u001b[0m\u001b[1;42m\u001b[33m>\u001b[0m\u001b[1;42m\u001b[33m]\u001b[0m\u001b[0m (\u001b[1;31m100%\u001b[0m, time left: \u001b[1;31m0 sec\u001b[0m\u001b[0m) \n",
      "REP_Estimator            : [./] : Evaluation of REP_Estimator on training sample (11818 events)\n",
      "                         : Elapsed time for evaluation of 11818 events: \u001b[1;31m1.72 sec\u001b[0m       ;42m\u001b[33m>\u001b[0m\u001b[1;42m\u001b[33m>\u001b[0m\u001b[1;42m\u001b[33m>\u001b[0m\u001b[1;42m\u001b[33m>\u001b[0m\u001b[1;42m\u001b[33m>\u001b[0m\u001b[1;42m\u001b[33m>\u001b[0m\u001b[1;42m\u001b[33m>\u001b[0m\u001b[1;42m\u001b[33m>\u001b[0m\u001b[1;42m\u001b[33m>\u001b[0m\u001b[1;42m\u001b[33m>\u001b[0m\u001b[1;42m\u001b[33m>\u001b[0m\u001b[1;42m\u001b[33m>\u001b[0m\u001b[1;42m\u001b[33m]\u001b[0m\u001b[0m (\u001b[1;31m99%\u001b[0m, time left: \u001b[1;31m0 sec\u001b[0m\u001b[0m)  \n",
      "                         : Creating xml weight file: \u001b[0;36m.//weights/TMVAEstimation_REP_Estimator.weights.xml\u001b[0m\n",
      "                         : Creating standalone class: \u001b[0;36m.//weights/TMVAEstimation_REP_Estimator.class.C\u001b[0m\n",
      "Factory                  : Training finished\n",
      "                         : \n",
      "                         : Ranking input variables (method specific)...\n",
      "REP_Estimator            : Ranking result (top variable is best ranked)\n",
      "                         : --------------------------------------------------------------------------\n",
      "                         : Rank : Variable                                 : Variable Importance\n",
      "                         : --------------------------------------------------------------------------\n",
      "                         :    1 : Lb_hop_LoKi_mass_bv                      : 1.838e-01\n",
      "                         :    2 : Lb_IP_OWNPV                              : 8.565e-02\n",
      "                         :    3 : Lb_IPCHI2_OWNPV                          : 8.469e-02\n",
      "                         :    4 : L0_PT                                    : 7.483e-02\n",
      "                         :    5 : L0_ORIVX_CHI2                            : 7.457e-02\n",
      "                         :    6 : Lb_VtxIsoBDT_VTXISOBDTHARDFIRSTVALUE     : 7.213e-02\n",
      "                         :    7 : Lb_TrackIsoBDTInfoL2_TRKISOBDTFIRSTVALUE : 5.487e-02\n",
      "                         :    8 : l1_IPCHI2_OWNPV_PLUS_l2_IPCHI2_OWNPV     : 5.383e-02\n",
      "                         :    9 : Lb_TrackIsoBDTInfoH1_TRKISOBDTFIRSTVALUE : 5.267e-02\n",
      "                         :   10 : Lb_TrackIsoBDTInfoL1_TRKISOBDTFIRSTVALUE : 5.010e-02\n",
      "                         :   11 : p_PT                                     : 4.903e-02\n",
      "                         :   12 : Lb_ConeIsoInfoH2_CC_PTASYM               : 4.336e-02\n",
      "                         :   13 : Lb_ConeIsoInfoL2_CC_PTASYM               : 4.329e-02\n",
      "                         :   14 : Lb_TrackIsoBDTInfoH2_TRKISOBDTFIRSTVALUE : 4.240e-02\n",
      "                         :   15 : Lb_TrackIsoInfoH1_CONEMULT               : 3.476e-02\n",
      "                         : --------------------------------------------------------------------------\n",
      "Factory                  : === Destroy and recreate all methods via weight files for testing ===\n",
      "                         : \n",
      "\n",
      "done!\n"
     ]
    },
    {
     "name": "stderr",
     "output_type": "stream",
     "text": [
      "/home/guido/anaconda3/envs/py27/lib/python2.7/site-packages/sklearn/base.py:122: DeprecationWarning: Estimator SklearnClassifier modifies parameters in __init__. This behavior is deprecated as of 0.18 and support for this behavior will be removed in 0.20.\n",
      "  % type(estimator).__name__, DeprecationWarning)\n",
      "/home/guido/anaconda3/envs/py27/lib/python2.7/site-packages/sklearn/base.py:122: DeprecationWarning: Estimator SklearnClassifier modifies parameters in __init__. This behavior is deprecated as of 0.18 and support for this behavior will be removed in 0.20.\n",
      "  % type(estimator).__name__, DeprecationWarning)\n",
      "/home/guido/anaconda3/envs/py27/lib/python2.7/site-packages/sklearn/base.py:122: DeprecationWarning: Estimator XGBoostClassifier modifies parameters in __init__. This behavior is deprecated as of 0.18 and support for this behavior will be removed in 0.20.\n",
      "  % type(estimator).__name__, DeprecationWarning)\n",
      "/home/guido/anaconda3/envs/py27/lib/python2.7/site-packages/sklearn/base.py:122: DeprecationWarning: Estimator TMVAClassifier modifies parameters in __init__. This behavior is deprecated as of 0.18 and support for this behavior will be removed in 0.20.\n",
      "  % type(estimator).__name__, DeprecationWarning)\n"
     ]
    }
   ],
   "source": [
    "sys.stdout = default_stdout\n",
    "\n",
    "#get report object, containing the info about performances\n",
    "from rep.metaml import ClassifiersFactory\n",
    "\n",
    "estim = {}\n",
    "\n",
    "factory = ClassifiersFactory()\n",
    "for classifier in classifiers:\n",
    "        \n",
    "    print \"Training \", classifier, \"...\"\n",
    "    if classifier is 'GaussNB':\n",
    "        classifiers['GaussNB'].fit(train_data_with_scaled_vars, train_labels)\n",
    "        estim[classifier]=classifiers['GaussNB']\n",
    "    else:\n",
    "        estim[classifier] = grid_finder[classifier].fit_best_estimator(train_data_with_scaled_vars, train_labels, sample_weight=None)\n",
    "    factory.add_classifier(classifier, estim[classifier])\n",
    "\n",
    "    print \"done!\"\n",
    "\n",
    "report = factory.test_on(test_data_with_scaled_vars, test_labels)"
   ]
  },
  {
   "cell_type": "code",
   "execution_count": 29,
   "metadata": {
    "collapsed": true
   },
   "outputs": [],
   "source": [
    "#plot roc curves\n",
    "fig = plt.figure(figsize=(15,10))\n",
    "report.roc(physics_notion=True).plot(xlim=(0, 1), ylim=(0, 1))\n",
    "plt.savefig(plots_dir+\"/rocs_all.pdf\")\n",
    "plt.show()\n",
    "\n",
    "\n",
    "fig = plt.figure(figsize=(15,10))\n",
    "report.roc(physics_notion=True).plot(xlim=(0.2, 1), ylim=(0.8, 1))\n",
    "plt.savefig(plots_dir+\"/rocs_all_zoommed.pdf\")\n",
    "plt.show()"
   ]
  },
  {
   "cell_type": "code",
   "execution_count": 39,
   "metadata": {
    "collapsed": true
   },
   "outputs": [],
   "source": [
    "#save trained classifiers\n",
    "import pickle\n",
    "\n",
    "for classifier in classifiers:\n",
    "    file_name = classifiers_dir+classifier+\"_emu_\"+str(tag)+\".pickle.dat\"\n",
    "    if os.path.exists(xg_file_name):\n",
    "        os.remove(xg_file_name)\n",
    "    pickle.dump(estim[classifier], open(file_name, \"wb\"))"
   ]
  },
  {
   "cell_type": "code",
   "execution_count": null,
   "metadata": {
    "collapsed": true
   },
   "outputs": [],
   "source": []
  }
 ],
 "metadata": {
  "kernelspec": {
   "display_name": "Python 2",
   "language": "python",
   "name": "python2"
  },
  "language_info": {
   "codemirror_mode": {
    "name": "ipython",
    "version": 2
   },
   "file_extension": ".py",
   "mimetype": "text/x-python",
   "name": "python",
   "nbconvert_exporter": "python",
   "pygments_lexer": "ipython2",
   "version": "2.7.13"
  }
 },
 "nbformat": 4,
 "nbformat_minor": 1
}
