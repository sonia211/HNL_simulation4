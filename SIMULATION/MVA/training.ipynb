{
 "cells": [
  {
   "cell_type": "code",
   "execution_count": 20,
   "metadata": {
    "collapsed": false
   },
   "outputs": [],
   "source": [
    "import sys, os\n",
    "tag = 1\n",
    "decay = \"emu\"\n",
    "classifiers_dir = 'classifiers/'.format(decay, tag)\n",
    "if not os.path.exists(classifiers_dir):\n",
    "    raise Exception(\"Cannot find the classifiers folder!\")\n",
    "    \n",
    "best_classifier_name = 'xgboost'\n",
    "\n",
    "#folder for the trained classifiers\n",
    "classifiers_subdir = \"/trained_\"+best_classifier_name+str(tag)+\"_\"+decay+\"/\"\n",
    "dir_name = classifiers_dir+classifiers_subdir\n",
    "if os.path.exists(dir_name):\n",
    "    raise Exception(\"Path exists!\")\n",
    "else:\n",
    "    os.mkdir(dir_name)"
   ]
  },
  {
   "cell_type": "code",
   "execution_count": 21,
   "metadata": {
    "collapsed": false
   },
   "outputs": [
    {
     "data": {
      "text/plain": [
       "['Lb_IPCHI2_OWNPV',\n",
       " 'Lb_PT',\n",
       " 'L0_ORIVX_CHI2',\n",
       " 'l1_IPCHI2_OWNPV',\n",
       " 'l2_IPCHI2_OWNPV',\n",
       " 'Lb_HOP',\n",
       " 'L0_DIRA_OWNPV',\n",
       " 'Lb_ConeIsoInfoH1_CC_PTASYM',\n",
       " 'Lb_ConeIsoInfoH2_CC_PTASYM',\n",
       " 'Lb_ConeIsoInfoL1_CC_PTASYM',\n",
       " 'Lb_ConeIsoInfoL2_CC_PTASYM',\n",
       " 'Lb_TrackIsoInfoH1_CONEMULT',\n",
       " 'Lb_TrackIsoInfoH2_CONEMULT',\n",
       " 'Lb_TrackIsoInfoL1_CONEMULT',\n",
       " 'Lb_TrackIsoInfoL2_CONEMULT']"
      ]
     },
     "execution_count": 21,
     "metadata": {},
     "output_type": "execute_result"
    }
   ],
   "source": [
    "#retrieve best classifier\n",
    "\n",
    "import pickle\n",
    "file_name = classifiers_dir+best_classifier_name+\"_\"+decay+\"_\"+str(tag)+\".pickle.dat\"\n",
    "if os.path.exists(file_name):\n",
    "        best_classifier = pickle.load(open(file_name, \"r\"))\n",
    "else: raise Exception(\"Cannot find the classifier!\")\n",
    "    \n",
    "#branches = best_classifier.features ##for now they are set manyally. I'll fix this later byt taking them from vars_db\n",
    "branches = best_classifier.features\n",
    "branches = [var.replace(\"_mathPLUS_\", \"+\").replace(\"_mathMINUS_\", \"-\").replace(\"_mathTIMES_\", \"*\").replace(\"_mathOVER_\", \"/\") for var in branches]\n",
    "additional_branches = ['Lb_M', 'eventNumber'] #spectator variables and others\n",
    "branches"
   ]
  },
  {
   "cell_type": "code",
   "execution_count": 22,
   "metadata": {
    "collapsed": false
   },
   "outputs": [
    {
     "name": "stdout",
     "output_type": "stream",
     "text": [
      "········\n"
     ]
    },
    {
     "data": {
      "text/plain": [
       "0"
      ]
     },
     "execution_count": 22,
     "metadata": {},
     "output_type": "execute_result"
    },
    {
     "name": "stdout",
     "output_type": "stream",
     "text": [
      "Password for gandreas@CERN.CH: \n"
     ]
    }
   ],
   "source": [
    " #get kerberos token for eos\n",
    "import getpass\n",
    "os.system(\"echo %s | kinit gandreas@CERN.CH\" %getpass.getpass()) "
   ]
  },
  {
   "cell_type": "code",
   "execution_count": 23,
   "metadata": {
    "collapsed": false
   },
   "outputs": [],
   "source": [
    "#load data\n",
    "\n",
    "#first, the trainig data:\n",
    "import ROOT\n",
    "import cuts\n",
    "import pandas as pd\n",
    "import numpy as np\n",
    "\n",
    "MC_tree = ROOT.TChain('Lb2LemuTuple/DecayTree')\n",
    "MC_tree.Add(os.getenv(\"GUIDOANAEOSLOC\")+\"tuples/S28/MC/Lb_Lemu_MC_2016_M*.root\")\n",
    "\n",
    "data_tree = ROOT.TChain('Lb2LemuTuple/DecayTree')\n",
    "#temporary fix:\n",
    "from glob import glob\n",
    "\n",
    "for file in glob(os.getenv(\"LBMICKJOBLOC\")+\"209/[0-2][0-5]/DVNtuple.root\"):\n",
    "    data_tree.AddFile(file)\n",
    "for file in glob(os.getenv(\"LBMICKJOBLOC\")+\"210/[0-2][0-5]/DVNtuple.root\"):\n",
    "    data_tree.AddFile(file)\n",
    "\n",
    "    \n",
    "    \n",
    "from tools.convert_data import convert_data\n",
    "import root_numpy\n",
    "import imp\n",
    "import sys\n",
    "imp.reload (sys.modules['tools.convert_data'])\n",
    "\n",
    "\n",
    "signal_training_cut = cuts.Lb_Lemu_matching+cuts.Lb_Lemu_trigger_run1_full\n",
    "\n",
    "#print signal_training_cut.GetTitle()\n",
    "train_data, train_labels, test_data, test_labels = convert_data (MC_tree,\n",
    "                                                                 (cuts.Lb_Lemu_preselection+cuts.Lb_Lemu_matching+cuts.Lb_Lemu_trigger_run2_full_for_MVA_training).GetTitle(),\n",
    "                                                                 data_tree,\n",
    "                                                                 (cuts.Lb_Lemu_preselection+cuts.Lb_Lemu_sidebands+cuts.Lb_Lemu_trigger_run2_full_for_MVA_training).GetTitle(),\n",
    "                                                                 branches+additional_branches,\n",
    "                                                                 test_frac = 0.2)\n",
    "\n",
    "\n",
    "#let's also prepare signal and background in separate dataframes for convenience\n",
    "train_data_with_labels = pd.DataFrame(np.hstack((train_data, train_labels.reshape(train_labels.shape[0], -1))),\n",
    "                  columns=branches+additional_branches+['labels'])\n",
    "test_data_with_labels = pd.DataFrame(np.hstack((test_data, test_labels.reshape(test_labels.shape[0], -1))),\n",
    "                  columns=branches+additional_branches+['labels'])\n",
    "\n",
    "train_data_signal_with_labels = train_data_with_labels.loc[train_data_with_labels['labels']>0.5]\n",
    "train_data_background_with_labels = train_data_with_labels.loc[train_data_with_labels['labels']<0.5]\n",
    "test_data_signal_with_labels = test_data_with_labels.loc[test_data_with_labels['labels']>0.5]\n",
    "test_data_background_with_labels = test_data_with_labels.loc[test_data_with_labels['labels']<0.5]\n",
    "\n",
    "\n",
    "MC_data = root_numpy.tree2array(tree=MC_tree, branches=branches+additional_branches)\n",
    "MC_data=pd.DataFrame(MC_data)"
   ]
  },
  {
   "cell_type": "code",
   "execution_count": 24,
   "metadata": {
    "collapsed": true
   },
   "outputs": [],
   "source": [
    "#now we have to change names to the input variables removing the mathematical symbols, otherwise tmva gets confused\n",
    "#I'm actually not using a TMVA classifier here now, but better keep the compatibility for the future...\n",
    "train_data_with_labels.columns = [var.replace(\"+\",\"_mathPLUS_\").replace(\"-\",\"_mathMINUS_\").replace(\"*\",\"_mathTIMES_\").replace(\"/\",\"_mathOVER_\") for var in train_data_with_labels.columns]\n",
    "test_data_with_labels.columns = [var.replace(\"+\",\"_mathPLUS_\").replace(\"-\",\"_mathMINUS_\").replace(\"*\",\"_mathTIMES_\").replace(\"/\",\"_mathOVER_\") for var in test_data_with_labels.columns]"
   ]
  },
  {
   "cell_type": "code",
   "execution_count": 25,
   "metadata": {
    "collapsed": true
   },
   "outputs": [],
   "source": [
    "#we will define the k samples of the k-folding using the modulo k of the eventNumber\n",
    "k = 5\n",
    "training_folds = []\n",
    "\n",
    "for i in range(k):\n",
    "    training_folds.append(train_data_with_labels.loc[train_data_with_labels['eventNumber']%k==i])"
   ]
  },
  {
   "cell_type": "code",
   "execution_count": 26,
   "metadata": {
    "collapsed": true
   },
   "outputs": [],
   "source": [
    "# X-checking\n",
    "tot = train_data_with_labels.shape[0]\n",
    "\n",
    "for i in range(k):\n",
    "    tot = tot-training_folds[i].shape[0]\n",
    "if (tot!=0):\n",
    "    raise Exception(\"Something went wrong in the splitting in k-folds!!\")"
   ]
  },
  {
   "cell_type": "code",
   "execution_count": 27,
   "metadata": {
    "collapsed": false
   },
   "outputs": [
    {
     "name": "stdout",
     "output_type": "stream",
     "text": [
      "Training fold 0 ...\n",
      "Training fold 1 ...\n",
      "Training fold 2 ...\n",
      "Training fold 3 ...\n",
      "Training fold 4 ...\n",
      "Done!\n"
     ]
    }
   ],
   "source": [
    "#Now let's train\n",
    "\n",
    "from sklearn.base import clone\n",
    "k_classifiers=[]\n",
    "for i in range(k):\n",
    "    print \"Training fold\", i, \"...\"\n",
    "    this_classifier = clone(best_classifier)\n",
    "    these_training_data = pd.concat([training_folds[j] for j in range(k) if j is not i], axis=0)\n",
    "    this_classifier.fit(these_training_data, these_training_data['labels'])\n",
    "    k_classifiers.append(this_classifier)\n",
    "print \"Done!\"\n",
    "\n",
    "#and save them to file\n",
    "import pickle\n",
    "\n",
    "j=0\n",
    "for classifier in k_classifiers:\n",
    "    file_name = classifiers_dir+best_classifier_name+\"_\"+decay+\"_\"+str(tag)+\"k\"+str(j)+\"_trained.pickle.dat\"\n",
    "    if os.path.exists(file_name):\n",
    "        os.remove(file_name)\n",
    "    pickle.dump(classifier, open(file_name, \"wb\"))\n",
    "    j=j+1"
   ]
  },
  {
   "cell_type": "code",
   "execution_count": 42,
   "metadata": {
    "collapsed": false
   },
   "outputs": [
    {
     "data": {
      "image/png": "[encoded data removed]",
      "text/plain": [
       "<matplotlib.figure.Figure at 0x7f298f6abf50>"
      ]
     },
     "metadata": {},
     "output_type": "display_data"
    },
    {
     "data": {
      "text/plain": [
       "[Ks_2sampResult(statistic=0.031622312065116565, pvalue=0.83186043998210402),\n",
       " Ks_2sampResult(statistic=0.057039901435050333, pvalue=0.22906675567593776)]"
      ]
     },
     "execution_count": 42,
     "metadata": {},
     "output_type": "execute_result"
    },
    {
     "name": "stdout",
     "output_type": "stream",
     "text": [
      "Applying MVA to fold 0 ...\n",
      "Applying MVA to fold 1 ...\n",
      "Applying MVA to fold 2 ...\n",
      "Applying MVA to fold 3 ...\n",
      "Applying MVA to fold 4 ...\n",
      "Done!\n",
      "Applying MVA to fold 0 ...\n",
      "Applying MVA to fold 1 ...\n",
      "Applying MVA to fold 2 ...\n",
      "Applying MVA to fold 3 ...\n",
      "Applying MVA to fold 4 ...\n",
      "Done!\n",
      "Applying MVA to fold 0 ...\n",
      "Applying MVA to fold 1 ...\n",
      "Applying MVA to fold 2 ...\n",
      "Applying MVA to fold 3 ...\n",
      "Applying MVA to fold 4 ...\n",
      "Done!\n",
      "Applying MVA to fold 0 ...\n",
      "Applying MVA to fold 1 ...\n",
      "Applying MVA to fold 2 ...\n",
      "Applying MVA to fold 3 ...\n",
      "Applying MVA to fold 4 ...\n",
      "Done!\n"
     ]
    }
   ],
   "source": [
    "#overtraining check\n",
    "import imp\n",
    "import sys\n",
    "import matplotlib.pyplot as plt\n",
    "from tools.compare_train_test import compare_train_test\n",
    "imp.reload (sys.modules['tools.compare_train_test'])\n",
    "from tools.compare_train_test import compare_train_test\n",
    "%matplotlib inline\n",
    "plt.close('all')\n",
    "compare_train_test(k_classifiers, \"xgboost1\",\n",
    "                   train_data_signal_with_labels,\n",
    "                   train_data_background_with_labels,\n",
    "                  test_data_signal_with_labels,\n",
    "                  test_data_background_with_labels, 30, True,\n",
    "                  dir_name+best_classifier_name+\"overtraining_plot.pdf\")"
   ]
  },
  {
   "cell_type": "code",
   "execution_count": 10,
   "metadata": {
    "collapsed": true
   },
   "outputs": [],
   "source": [
    "i=0\n",
    "for classifier in k_classifiers:\n",
    "    file_name = dir_name+best_classifier_name+\"_k\"+str(i)+\".pickle.dat\"  \n",
    "    pickle.dump(classifier, open(file_name, \"wb\"))\n",
    "    i = i+1"
   ]
  },
  {
   "cell_type": "code",
   "execution_count": 11,
   "metadata": {
    "collapsed": false
   },
   "outputs": [
    {
     "name": "stdout",
     "output_type": "stream",
     "text": [
      "Applying MVA to fold 0 ...\n",
      "Applying MVA to fold 1 ...\n",
      "Applying MVA to fold 2 ...\n",
      "Applying MVA to fold 3 ...\n",
      "Applying MVA to fold 4 ...\n",
      "Done!\n"
     ]
    }
   ],
   "source": [
    "#now we apply the MVA to the testing data, and we save them to use later for the cut optimisation\n",
    "from tools.applyMVA import applyMVA\n",
    "test_data_with_pred=applyMVA(k_classifiers, best_classifier_name+str(tag),test_data_with_labels)\n",
    "#save test data, for the ROC\n",
    "test_data_with_pred.to_csv(dir_name+\"test_data_with_labels_with_pred_\"+decay+\".csv\")"
   ]
  },
  {
   "cell_type": "code",
   "execution_count": null,
   "metadata": {
    "collapsed": true
   },
   "outputs": [],
   "source": [
    "### the code below is already implemented elsewhere. I think I should remove it from here"
   ]
  },
  {
   "cell_type": "code",
   "execution_count": null,
   "metadata": {
    "collapsed": true
   },
   "outputs": [],
   "source": [
    "import sys, os\n",
    "tag = 0\n",
    "decay = \"emu\"\n",
    "classifiers_dir = 'classifiers/'.format(decay, tag)\n",
    "if not os.path.exists(classifiers_dir):\n",
    "    raise Exception(\"Cannot find the classifiers folder!\")\n",
    "    \n",
    "best_classifier_name = 'xgboost'"
   ]
  },
  {
   "cell_type": "code",
   "execution_count": null,
   "metadata": {
    "collapsed": true
   },
   "outputs": [],
   "source": [
    "#then, all the rest of the OS. This is going to take a lot of time\n",
    "\n",
    "#split input files in chunks\n",
    "\n",
    "l = glob(os.getenv(\"LBMICKJOBLOC\")+\"209/*/DVNtuple.root\")\n",
    "l.extend(glob(os.getenv(\"LBMICKJOBLOC\")+\"210/*/DVNtuple.root\"))\n",
    "lofl=[]\n",
    "all_data_tree=[]\n",
    "bkg_data=[]\n",
    "n=50\n",
    "for i in range(0, len(l), n):\n",
    "    these_files = l[i:i+n]\n",
    "    all_data_tree.append(ROOT.TChain('Lb2LemuTuple/DecayTree'))\n",
    "    for file in these_files:\n",
    "        all_data_tree[-1].AddFile(file)\n",
    "    these_bkg_data = root_numpy.tree2array(tree=all_data_tree[0], branches=branches+additional_branches)\n",
    "    bkg_data.append(pd.DataFrame(these_bkg_data))"
   ]
  },
  {
   "cell_type": "code",
   "execution_count": null,
   "metadata": {
    "collapsed": true
   },
   "outputs": [],
   "source": [
    "#now we have to change names to the input variables removing the mathematical symbols, otherwise tmva gets confused\n",
    "#I'm actually not using a TMVA classifier here now, but better keep the compatibility for the future...\n",
    "\n",
    "for these_bkg_data in bkg_data:\n",
    "    these_bkg_data.columns = [var.replace(\"+\",\"_mathPLUS_\").replace(\"-\",\"_mathMINUS_\").replace(\"*\",\"_mathTIMES_\").replace(\"/\",\"_mathOVER_\") for var in these_bkg_data.columns]"
   ]
  },
  {
   "cell_type": "code",
   "execution_count": null,
   "metadata": {
    "collapsed": true
   },
   "outputs": [],
   "source": []
  },
  {
   "cell_type": "code",
   "execution_count": null,
   "metadata": {
    "collapsed": true
   },
   "outputs": [],
   "source": [
    "from tools.applyMVA import applyMVA\n",
    "from rootpy.io import root_open\n",
    "imp.reload (sys.modules['tools.applyMVA'])\n",
    "\n",
    "\n",
    "for i in range (len(bkg_data)):\n",
    "    print \"Processing chunk\", i, \"of\", len(bkg_data), \"...\"\n",
    "    data_with_pred=applyMVA(k_classifiers, best_classifier_name+str(tag),bkg_data[i])\n",
    "    mva_column=data_with_pred[best_classifier_name+str(tag)].as_matrix().copy() \n",
    "    mva_column.dtype=[(best_classifier_name+str(tag), '<f8')]\n",
    "    data_tree_clone = all_data_tree[i].CloneTree(-1)\n",
    "    with root_open(os.getenv(\"GUIDOANAEOSLOC\")+\"tuples/S28/LbLemu_2016_BDT_{0}.root\".format(i), mode='RECREATE') as myfile:\n",
    "        t = root_numpy.array2tree(mva_column, tree=data_tree_clone)\n",
    "        t.Write(\"\",t.kWriteDelete);\n",
    "        print \"Writing output file with the following content: \"\n",
    "        myfile.ls()\n",
    "        myfile.write()\n",
    "    del data_with_pred\n",
    "    del mva_column\n",
    "    del data_tree_clone"
   ]
  },
  {
   "cell_type": "code",
   "execution_count": null,
   "metadata": {
    "collapsed": true
   },
   "outputs": [],
   "source": [
    "mva_column=data_with_pred[best_classifier_name+str(tag)].as_matrix().copy() \n",
    "mva_column.dtype=[(best_classifier_name+str(tag), '<f8')]\n",
    "#mva_column.dtype=np.dtype(u'something')"
   ]
  },
  {
   "cell_type": "code",
   "execution_count": null,
   "metadata": {
    "collapsed": true
   },
   "outputs": [],
   "source": [
    "#now MC\n",
    "\n",
    "#add predictions to each single fold\n",
    "\n",
    "MC_data.columns = [var.replace(\"+\",\"_mathPLUS_\").replace(\"-\",\"_mathMINUS_\").replace(\"*\",\"_mathTIMES_\").replace(\"/\",\"_mathOVER_\") for var in train_data.columns]\n",
    "folds_MC = []\n",
    "\n",
    "for i in range(k):\n",
    "    folds_MC.append(MC_data.loc[MC_data['eventNumber']%k==i])\n",
    "    \n",
    "    \n",
    "#fill array with predictions\n",
    "outputs_MC = []\n",
    "for i in range(k):\n",
    "    print \"Applying MVA to fold\", i , \"...\"\n",
    "    predicted_prob = k_classifiers[i].predict_proba(folds_MC[i])\n",
    "    outputs_MC.append(([a[1]-a[0] for a in predicted_prob]))\n",
    "print \"Done!\"\n",
    "\n",
    "folds_MC_with_pred = []\n",
    "for i in range(k):\n",
    "    this = folds_MC[i]\n",
    "    this[best_classifier_name+str(tag)] = pd.Series(outputs_MC[i], index = this.index)\n",
    "    folds_MC_with_pred.append(this)\n",
    "MC_with_pred = pd.concat(folds_MC_with_pred)\n",
    "MC_with_pred=MC_with_pred.sort_index()\n",
    "MC_mva_column=MC_with_pred[best_classifier_name+str(tag)].as_matrix().copy() #the copy is necessary as this has to be a separate object in memory, since we want to modify it (next line)\n",
    "MC_mva_column.dtype=[(best_classifier_name+str(tag), '<f8')]\n",
    "\n",
    "from rootpy.io import root_open\n",
    "\n",
    "MC_tree_all_clone = MC_tree.CloneTree(-1)\n",
    "with root_open(os.getenv(\"GUIDOANAEOSLOC\")+\"tuples/S28/LbLemu_MC_2016_BDT.root\", mode='RECREATE') as myfile:\n",
    "    t = root_numpy.array2tree(MC_mva_column, tree=MC_tree_all_clone)\n",
    "    t.Write(\"\",t.kWriteDelete);\n",
    "    print \"Writing output file with the following content: \"\n",
    "    myfile.ls()\n",
    "    myfile.write()"
   ]
  },
  {
   "cell_type": "code",
   "execution_count": 1,
   "metadata": {
    "collapsed": false
   },
   "outputs": [
    {
     "name": "stdout",
     "output_type": "stream",
     "text": [
      "Object `MC_with_pred` not found.\n"
     ]
    }
   ],
   "source": [
    "?MC_with_pred"
   ]
  },
  {
   "cell_type": "code",
   "execution_count": null,
   "metadata": {
    "collapsed": true
   },
   "outputs": [],
   "source": []
  }
 ],
 "metadata": {
  "kernelspec": {
   "display_name": "Python 2",
   "language": "python",
   "name": "python2"
  },
  "language_info": {
   "codemirror_mode": {
    "name": "ipython",
    "version": 2
   },
   "file_extension": ".py",
   "mimetype": "text/x-python",
   "name": "python",
   "nbconvert_exporter": "python",
   "pygments_lexer": "ipython2",
   "version": "2.7.13"
  }
 },
 "nbformat": 4,
 "nbformat_minor": 2
}
