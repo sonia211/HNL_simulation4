{
 "cells": [
  {
   "cell_type": "code",
   "execution_count": 1,
   "metadata": {
    "collapsed": false
   },
   "outputs": [
    {
     "name": "stdout",
     "output_type": "stream",
     "text": [
      "········\n"
     ]
    },
    {
     "data": {
      "text/plain": [
       "0"
      ]
     },
     "execution_count": 1,
     "metadata": {},
     "output_type": "execute_result"
    }
   ],
   "source": [
    "import sys\n",
    "stdout = sys.stdout\n",
    "#get kerberos token for eos\n",
    "import getpass, os\n",
    "os.system(\"echo %s | kinit gandreas@CERN.CH\" %getpass.getpass()) "
   ]
  },
  {
   "cell_type": "code",
   "execution_count": 2,
   "metadata": {
    "collapsed": true
   },
   "outputs": [],
   "source": [
    "from vars_db import vars_db\n",
    "branches = []\n",
    "for branch in vars_db:\n",
    "    if (vars_db[branch]['considered_for_MVA']):\n",
    "        branches.append(branch)"
   ]
  },
  {
   "cell_type": "code",
   "execution_count": 16,
   "metadata": {
    "collapsed": false
   },
   "outputs": [],
   "source": [
    "#take the MC\n",
    "\n",
    "import ROOT\n",
    "import root_numpy\n",
    "import numpy as np\n",
    "import cuts\n",
    "\n",
    "sys.stdout = stdout\n",
    "MC_file = ROOT.TFile.Open(\"/eos/lhcb/wg/RD/Lb2Lll/MC/S28/2016/LbLemu_MC_BDT_xgboost1.root\", \"r\")\n",
    "MC_tuple = MC_file.Get(\"DecayTree\")\n",
    "MC_np = root_numpy.tree2array(tree=MC_tuple,\n",
    "                                      branches=[\"Lb_M\",\n",
    "                                                \"Lb_M01\",\n",
    "                                                \"Lb_M02\",\n",
    "                                                \"Lb_M03\",\n",
    "                                                \"Lb_M12\",\n",
    "                                                \"Lb_M13\",                                                \n",
    "                                                \"Lb_M23\",\n",
    "                                                \"xgboost1\"]+branches,\n",
    "                                      selection=cuts.Lb_Lemu_matching.GetTitle())\n",
    "\n",
    "#adding column with q\n",
    "from numpy.lib.recfunctions import append_fields\n",
    "\n",
    "q2_12_col=np.array((MC_np['Lb_M12']**2))\n",
    "MC_np = append_fields(MC_np, 'q2_12', q2_12_col)\n",
    "\n",
    "q2_23_col=np.array((MC_np['Lb_M23']**2))\n",
    "MC_np = append_fields(MC_np, 'q2_23', q2_23_col)\n",
    "\n",
    "q2_13_col=np.array((MC_np['Lb_M13']**2))\n",
    "MC_np = append_fields(MC_np, 'q2_13', q2_13_col)"
   ]
  },
  {
   "cell_type": "code",
   "execution_count": 4,
   "metadata": {
    "collapsed": false
   },
   "outputs": [
    {
     "ename": "ReferenceError",
     "evalue": "attempt to access a null-pointer",
     "output_type": "error",
     "traceback": [
      "\u001b[0;31m\u001b[0m",
      "\u001b[0;31mReferenceError\u001b[0mTraceback (most recent call last)",
      "\u001b[0;32m<ipython-input-4-40fe975edb93>\u001b[0m in \u001b[0;36m<module>\u001b[0;34m()\u001b[0m\n\u001b[1;32m      5\u001b[0m \u001b[0;34m\u001b[0m\u001b[0m\n\u001b[1;32m      6\u001b[0m \u001b[0;34m\u001b[0m\u001b[0m\n\u001b[0;32m----> 7\u001b[0;31m \u001b[0mdata_tuple\u001b[0m \u001b[0;34m=\u001b[0m \u001b[0mdata_file\u001b[0m\u001b[0;34m.\u001b[0m\u001b[0mGet\u001b[0m\u001b[0;34m(\u001b[0m\u001b[0;34m\"DecayTree\"\u001b[0m\u001b[0;34m)\u001b[0m\u001b[0;34m\u001b[0m\u001b[0m\n\u001b[0m\u001b[1;32m      8\u001b[0m data_np_right = root_numpy.tree2array(tree=data_tuple,\n\u001b[1;32m      9\u001b[0m                                       branches=[\"Lb_M\",\n",
      "\u001b[0;31mReferenceError\u001b[0m: attempt to access a null-pointer"
     ]
    },
    {
     "name": "stderr",
     "output_type": "stream",
     "text": [
      "Error in <TFile::TFile>: file /eos/lhcb/user/g/gandreas/Lb2Lemu/tuples/S28/25102017/tot.root does not exist\n"
     ]
    }
   ],
   "source": [
    "#take the data (right sideband)\n",
    "sys.stdout = stdout\n",
    "#data_file = ROOT.TFile.Open(\"/eos/lhcb/wg/RD/Lb2Lll/data/S28/2016/LbLemu_2016_BDT_xgboost1.root\", \"r\")\n",
    "data_file = ROOT.TFile.Open(\"/eos/lhcb/user/g/gandreas/Lb2Lemu/tuples/S28/25102017/tot.root\", \"r\")\n",
    "\n",
    "\n",
    "data_tuple = data_file.Get(\"DecayTree\")\n",
    "data_np_right = root_numpy.tree2array(tree=data_tuple,\n",
    "                                      branches=[\"Lb_M\",\n",
    "                                                \"Lb_M01\",\n",
    "                                                \"Lb_M02\",\n",
    "                                                \"Lb_M03\",\n",
    "                                                \"Lb_M12\",\n",
    "                                                \"Lb_M13\",                                                \n",
    "                                                \"Lb_M23\",\n",
    "                                                \"Lb_M012_Subst2_e2pi\",\n",
    "                                                \"xgboost1\"]+branches,\n",
    "                                selection=(cuts.Lb_Lemu_right_sideband).GetTitle())\n",
    "##pid cuts are necessary to remove the LC contribution, that otherwise introduces a small correlation with the mass, because it is all in the left sideband\n",
    "\n",
    "\n",
    "#adding column with q\n",
    "from numpy.lib.recfunctions import append_fields\n",
    "\n",
    "q2_12_col=np.array((data_np_right['Lb_M12']**2))\n",
    "data_np_right = append_fields(data_np_right, 'q2_12', q2_12_col)\n",
    "\n",
    "q2_23_col=np.array((data_np_right['Lb_M23']**2))\n",
    "data_np_right = append_fields(data_np_right, 'q2_23', q2_23_col)\n",
    "\n",
    "q2_13_col=np.array((data_np_right['Lb_M13']**2))\n",
    "data_np_right = append_fields(data_np_right, 'q2_13', q2_13_col)"
   ]
  },
  {
   "cell_type": "code",
   "execution_count": null,
   "metadata": {
    "collapsed": true
   },
   "outputs": [],
   "source": [
    "#take the data (left sideband)\n",
    "data_np_left = root_numpy.tree2array(tree=data_tuple,\n",
    "                                      branches=[\"Lb_M\",\n",
    "                                                \"Lb_M01\",\n",
    "                                                \"Lb_M02\",\n",
    "                                                \"Lb_M03\",\n",
    "                                                \"Lb_M12\",\n",
    "                                                \"Lb_M13\",                                                \n",
    "                                                \"Lb_M23\",\n",
    "                                                \"Lb_M012_Subst2_e2pi\",\n",
    "                                                \"xgboost1\"]+branches,\n",
    "                                selection=(cuts.Lb_Lemu_left_sideband).GetTitle())\n",
    "##pid cuts are necessary to remove the LC contribution, that otherwise introduces a small correlation with the mass, because it is all in the left sideband\n",
    "#adding column with q\n",
    "from numpy.lib.recfunctions import append_fields\n",
    "\n",
    "q2_12_col=np.array((data_np_left['Lb_M12']**2))\n",
    "data_np_left = append_fields(data_np_left, 'q2_12', q2_12_col)\n",
    "\n",
    "q2_23_col=np.array((data_np_left['Lb_M23']**2))\n",
    "data_np_left = append_fields(data_np_left, 'q2_23', q2_23_col)\n",
    "\n",
    "q2_13_col=np.array((data_np_left['Lb_M13']**2))\n",
    "data_np_left = append_fields(data_np_left, 'q2_13', q2_13_col)"
   ]
  },
  {
   "cell_type": "code",
   "execution_count": null,
   "metadata": {
    "collapsed": true
   },
   "outputs": [],
   "source": [
    "#take the data (both sidebands)\n",
    "data_np = root_numpy.tree2array(tree=data_tuple,\n",
    "                                      branches=[\"Lb_M\",\n",
    "                                                \"Lb_M01\",\n",
    "                                                \"Lb_M02\",\n",
    "                                                \"Lb_M03\",\n",
    "                                                \"Lb_M12\",\n",
    "                                                \"Lb_M13\",                                                \n",
    "                                                \"Lb_M23\",\n",
    "                                                \"Lb_M012_Subst2_e2pi\",\n",
    "                                                \"xgboost1\"]+branches,\n",
    "                                selection=(cuts.Lb_Lemu_sidebands).GetTitle())\n",
    "##pid cuts are necessary to remove the LC contribution, that otherwise introduces a small correlation with the mass, because it is all in the left sideband\n",
    "\n",
    "#adding column with q\n",
    "from numpy.lib.recfunctions import append_fields\n",
    "\n",
    "q2_12_col=np.array((data_np['Lb_M12']**2))\n",
    "data_np = append_fields(data_np, 'q2_12', q2_12_col)\n",
    "\n",
    "q2_23_col=np.array((data_np['Lb_M23']**2))\n",
    "data_np = append_fields(data_np, 'q2_23', q2_23_col)\n",
    "\n",
    "q2_13_col=np.array((data_np['Lb_M13']**2))\n",
    "data_np = append_fields(data_np, 'q2_13', q2_13_col)"
   ]
  },
  {
   "cell_type": "code",
   "execution_count": 5,
   "metadata": {
    "collapsed": false
   },
   "outputs": [
    {
     "data": {
      "text/plain": [
       "<module 'tools.corr_plot' from 'tools/corr_plot.pyc'>"
      ]
     },
     "execution_count": 5,
     "metadata": {},
     "output_type": "execute_result"
    }
   ],
   "source": [
    "decay = \"emu\"\n",
    "tag = '1'\n",
    "plots_dir = 'plots/{0}/{1}/correlations/'.format(decay,tag)\n",
    "if not os.path.exists(plots_dir):\n",
    "    os.makedirs(plots_dir)\n",
    "    \n",
    "from tools.corr_plot import corr_plot\n",
    "import imp\n",
    "import sys\n",
    "imp.reload (sys.modules['tools.corr_plot'])"
   ]
  },
  {
   "cell_type": "code",
   "execution_count": 8,
   "metadata": {
    "collapsed": false
   },
   "outputs": [
    {
     "data": {
      "image/png": "[encoded data removed]",
      "text/plain": [
       "<matplotlib.figure.Figure at 0x7f9f5d1adfd0>"
      ]
     },
     "metadata": {},
     "output_type": "display_data"
    },
    {
     "name": "stdout",
     "output_type": "stream",
     "text": [
      "The correlation between q2_23 and xgboost1 is 0.0334810794412\n"
     ]
    },
    {
     "name": "stderr",
     "output_type": "stream",
     "text": [
      "/cvmfs/lhcb.cern.ch/lib/lcg/releases/LCG_87/pyanalysis/2.0/x86_64-slc6-gcc49-opt/lib/python2.7/site-packages/numpy-1.11.0-py2.7-linux-x86_64.egg/numpy/ma/core.py:2914: FutureWarning: Numpy has detected that you (may be) writing to an array returned\n",
      "by numpy.diagonal or by selecting multiple fields in a structured\n",
      "array. This code will likely break in a future numpy release --\n",
      "see numpy.diagonal or arrays.indexing reference docs for details.\n",
      "The quick fix is to make an explicit copy (e.g., do\n",
      "arr.diagonal().copy() or arr[['f0','f1']].copy()).\n",
      "  if (obj.__array_interface__[\"data\"][0]\n",
      "/cvmfs/lhcb.cern.ch/lib/lcg/releases/LCG_87/pyanalysis/2.0/x86_64-slc6-gcc49-opt/lib/python2.7/site-packages/numpy-1.11.0-py2.7-linux-x86_64.egg/numpy/ma/core.py:2915: FutureWarning: Numpy has detected that you (may be) writing to an array returned\n",
      "by numpy.diagonal or by selecting multiple fields in a structured\n",
      "array. This code will likely break in a future numpy release --\n",
      "see numpy.diagonal or arrays.indexing reference docs for details.\n",
      "The quick fix is to make an explicit copy (e.g., do\n",
      "arr.diagonal().copy() or arr[['f0','f1']].copy()).\n",
      "  != self.__array_interface__[\"data\"][0]):\n"
     ]
    }
   ],
   "source": [
    "#correlation with q2\n",
    "x = corr_plot(MC_np, 'q2_23', 'xgboost1', [50, 20], x_label='$q^{2}$', y_label='xgboost response')\n",
    "x.show_hist()\n",
    "x.saveAs(plots_dir+\"MC_corr_{0}_{1}.py\".format('q2_23', 'xgboost1'))\n",
    "x.saveAs(plots_dir+\"MC_corr_{0}_{1}.pdf\".format('q2_23', 'xgboost1'))"
   ]
  },
  {
   "cell_type": "code",
   "execution_count": 9,
   "metadata": {
    "collapsed": false
   },
   "outputs": [
    {
     "data": {
      "image/png": "[encoded data removed]",
      "text/plain": [
       "<matplotlib.figure.Figure at 0x7f9f5d1ad650>"
      ]
     },
     "metadata": {},
     "output_type": "display_data"
    },
    {
     "name": "stdout",
     "output_type": "stream",
     "text": [
      "The correlation between Lb_M and xgboost1 is 0.301173191552\n"
     ]
    }
   ],
   "source": [
    "#correlation with mass of the Lambda_b (MC)\n",
    "x = corr_plot(MC_np, 'Lb_M', 'xgboost1', [50, 20], x_min=4300, x_max=6700, x_label='$M(\\Lambda_{b})$', y_label='xgboost response')\n",
    "x.show_hist()\n",
    "x.saveAs(plots_dir+\"MC_corr_{0}_{1}.py\".format('Lb_M', 'xgboost1'))\n",
    "x.saveAs(plots_dir+\"MC_corr_{0}_{1}.pdf\".format('Lb_M', 'xgboost1'))"
   ]
  },
  {
   "cell_type": "code",
   "execution_count": 10,
   "metadata": {
    "collapsed": false
   },
   "outputs": [
    {
     "data": {
      "image/png": "[encoded data removed]",
      "text/plain": [
       "<matplotlib.figure.Figure at 0x7f9f5d1ad690>"
      ]
     },
     "metadata": {},
     "output_type": "display_data"
    },
    {
     "name": "stdout",
     "output_type": "stream",
     "text": [
      "The correlation between Lb_M and xgboost1 is 0.00297736274834\n"
     ]
    }
   ],
   "source": [
    "#correlation with mass of the Lambda_b (data, right sideband)\n",
    "x = corr_plot(data_np_right, 'Lb_M', 'xgboost1', [50, 20], x_label='$M(\\Lambda_{b})$', y_label='xgboost response')\n",
    "x.show_hist()\n",
    "x.saveAs(plots_dir+\"data_right_corr_{0}_{1}.py\".format('Lb_M', 'xgboost1'))\n",
    "x.saveAs(plots_dir+\"data_right_corr_{0}_{1}.pdf\".format('Lb_M', 'xgboost1'))"
   ]
  },
  {
   "cell_type": "code",
   "execution_count": 11,
   "metadata": {
    "collapsed": false
   },
   "outputs": [
    {
     "data": {
      "image/png": "[encoded data removed]",
      "text/plain": [
       "<matplotlib.figure.Figure at 0x7f9f5358a250>"
      ]
     },
     "metadata": {},
     "output_type": "display_data"
    },
    {
     "name": "stdout",
     "output_type": "stream",
     "text": [
      "The correlation between Lb_M and xgboost1 is -0.00221767683742\n"
     ]
    }
   ],
   "source": [
    "#correlation with mass of the Lambda_b (data, right sideband)\n",
    "x = corr_plot(data_np_left, 'Lb_M', 'xgboost1', [50, 20], x_label='$M(\\Lambda_{b})$', y_label='xgboost response')\n",
    "x.show_hist()\n",
    "x.saveAs(plots_dir+\"data_left_corr_{0}_{1}.py\".format('Lb_M', 'xgboost1'))\n",
    "x.saveAs(plots_dir+\"data_left_corr_{0}_{1}.pdf\".format('Lb_M', 'xgboost1'))"
   ]
  },
  {
   "cell_type": "code",
   "execution_count": 12,
   "metadata": {
    "collapsed": false
   },
   "outputs": [
    {
     "data": {
      "image/png": "[encoded data removed]",
      "text/plain": [
       "<matplotlib.figure.Figure at 0x7f9f534d98d0>"
      ]
     },
     "metadata": {},
     "output_type": "display_data"
    },
    {
     "name": "stdout",
     "output_type": "stream",
     "text": [
      "The correlation between Lb_M and xgboost1 is -0.043829105558\n"
     ]
    }
   ],
   "source": [
    "#correlation with mass of the Lambda_b (data, both sidebands)\n",
    "x = corr_plot(data_np, 'Lb_M', 'xgboost1', [50, 20], x_label='$M(\\Lambda_{b})$', y_label='xgboost response')\n",
    "x.show_hist()\n",
    "x.saveAs(plots_dir+\"data_corr_{0}_{1}.py\".format('Lb_M', 'xgboost1'))\n",
    "x.saveAs(plots_dir+\"data_corr_{0}_{1}.pdf\".format('Lb_M', 'xgboost1'))"
   ]
  },
  {
   "cell_type": "code",
   "execution_count": 73,
   "metadata": {
    "collapsed": false
   },
   "outputs": [
    {
     "data": {
      "text/plain": [
       "(828421,)"
      ]
     },
     "execution_count": 73,
     "metadata": {},
     "output_type": "execute_result"
    }
   ],
   "source": [
    "data_np.shape"
   ]
  },
  {
   "cell_type": "code",
   "execution_count": null,
   "metadata": {
    "collapsed": true
   },
   "outputs": [],
   "source": [
    "for branch in branches:\n",
    "    x = corr_plot(MC_np, branch, 'q2_12', [vars_db[branch]['binning'][0], 20], *(vars_db[branch]['binning'][1:3]), y_min=-1, y_max=1, x_label=branch, y_label='xgboost response')\n",
    "    x.show_hist()\n",
    "    x.saveAs(plots_dir+\"MC_corr_{0}_{1}.py\".format(branch, 'q2_12'))\n",
    "    x.saveAs(plots_dir+\"MC_corr_{0}_{1}.pdf\".format(branch, 'q2_12'))\n",
    "    "
   ]
  },
  {
   "cell_type": "code",
   "execution_count": 32,
   "metadata": {
    "collapsed": true
   },
   "outputs": [],
   "source": [
    "assert all(isinstance(item, int) for item in [vars_db[branch]['binning'][0], 20])"
   ]
  },
  {
   "cell_type": "code",
   "execution_count": 62,
   "metadata": {
    "collapsed": true
   },
   "outputs": [],
   "source": [
    "a=vars_db[branch]['binning'][1:3]\n",
    "a\n",
    "assert all(isinstance(item, float) for item in a)"
   ]
  },
  {
   "cell_type": "code",
   "execution_count": null,
   "metadata": {
    "collapsed": true
   },
   "outputs": [],
   "source": []
  }
 ],
 "metadata": {
  "kernelspec": {
   "display_name": "Python 2",
   "language": "python",
   "name": "python2"
  },
  "language_info": {
   "codemirror_mode": {
    "name": "ipython",
    "version": 2
   },
   "file_extension": ".py",
   "mimetype": "text/x-python",
   "name": "python",
   "nbconvert_exporter": "python",
   "pygments_lexer": "ipython2",
   "version": "2.7.13"
  }
 },
 "nbformat": 4,
 "nbformat_minor": 2
}
