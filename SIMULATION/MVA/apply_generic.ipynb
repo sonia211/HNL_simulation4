{
 "cells": [
  {
   "cell_type": "code",
   "execution_count": 1,
   "metadata": {
    "collapsed": false
   },
   "outputs": [
    {
     "name": "stdout",
     "output_type": "stream",
     "text": [
      "········\n"
     ]
    },
    {
     "data": {
      "text/plain": [
       "0"
      ]
     },
     "execution_count": 1,
     "metadata": {},
     "output_type": "execute_result"
    }
   ],
   "source": [
    " #get kerberos token for eos\n",
    "import getpass, os\n",
    "os.system(\"echo %s | kinit gandreas@CERN.CH\" %getpass.getpass()) \n"
   ]
  },
  {
   "cell_type": "code",
   "execution_count": 2,
   "metadata": {
    "collapsed": true
   },
   "outputs": [],
   "source": [
    "input_file_names = ['/eos/lhcb/user/g/gandreas/Lb2Lemu/tuples/S28/MC/Bd2JpsiKS_MC12_Pythia8_MagDown.root']\n",
    "output_file_names_root = '/eos/lhcb/user/g/gandreas/Lb2Lemu/tuples/S28/MC/Bd2JpsiKS_MC12_Pythia8_MagDown_BDT'\n",
    "tuple_name = 'Lb2Lmumu_Tuple/DecayTree'"
   ]
  },
  {
   "cell_type": "code",
   "execution_count": 3,
   "metadata": {
    "collapsed": true
   },
   "outputs": [],
   "source": [
    "import sys\n",
    "tag = 0\n",
    "decay = \"emu\"\n",
    "k=5\n",
    "best_classifier_name=\"xgboost\"\n",
    "classifiers_dir = 'classifiers/'.format(decay, tag)\n",
    "classifiers_subdir = \"/trained_\"+best_classifier_name+str(tag)+\"_\"+decay+\"/\"\n",
    "dir_name = classifiers_dir+classifiers_subdir\n",
    "if not os.path.exists(dir_name):\n",
    "    raise Exception(\"Cannot find the classifiers folder!\")\n",
    "    \n",
    "best_classifier_name = 'xgboost'"
   ]
  },
  {
   "cell_type": "code",
   "execution_count": 4,
   "metadata": {
    "collapsed": true
   },
   "outputs": [],
   "source": [
    "#X-checking\n",
    "if (len(os.listdir(dir_name))!=k):\n",
    "    raise Exception(\"Number of folds != number of classifiers found in\", dir_name)"
   ]
  },
  {
   "cell_type": "code",
   "execution_count": 5,
   "metadata": {
    "collapsed": false
   },
   "outputs": [
    {
     "data": {
      "application/javascript": [
       "\n",
       "require(['notebook'],\n",
       "  function() {\n",
       "    IPython.CodeCell.config_defaults.highlight_modes['magic_text/x-c++src'] = {'reg':[/^%%cpp/]};\n",
       "    console.log(\"JupyROOT - %%cpp magic configured\");\n",
       "  }\n",
       ");\n"
      ]
     },
     "metadata": {},
     "output_type": "display_data"
    },
    {
     "name": "stdout",
     "output_type": "stream",
     "text": [
      "Welcome to JupyROOT 6.08/02\n"
     ]
    },
    {
     "name": "stderr",
     "output_type": "stream",
     "text": [
      "/cvmfs/lhcb.cern.ch/lib/lcg/releases/LCG_87/ROOT/6.08.02/x86_64-slc6-gcc49-opt/lib/ROOT.py:417: UserWarning: \"from ROOT import *\" is not supported under IPython\n",
      "  warnings.warn( '\"from ROOT import *\" is not supported under IPython' )\n"
     ]
    }
   ],
   "source": [
    "import cuts\n",
    "cuts = cuts.Lb_Lemu_preselection.GetTitle() #if data!! None, if MC"
   ]
  },
  {
   "cell_type": "code",
   "execution_count": 6,
   "metadata": {
    "collapsed": true
   },
   "outputs": [],
   "source": [
    "#retrieve trained classifiers\n",
    "import pickle\n",
    "\n",
    "k_classifiers=[]\n",
    "for i in range(k):\n",
    "    file_name = dir_name+best_classifier_name+\"_k\"+str(i)+\".pickle.dat\"\n",
    "    k_classifiers.append(pickle.load(open(file_name, \"r\")))\n",
    "    \n",
    "if os.path.exists(file_name):\n",
    "        best_classifier = pickle.load(open(file_name, \"r\"))\n",
    "else: raise Exception(\"Cannot find the classifier!\")\n",
    "    \n",
    "#branches = best_classifier.features ##for now they are set manyally. I'll fix this later byt taking them from vars_db\n",
    "branches = k_classifiers[0].features\n",
    "branches = [var.replace(\"_mathPLUS_\", \"+\").replace(\"_mathMINUS_\", \"-\").replace(\"_mathTIMES_\", \"*\").replace(\"_mathOVER_\", \"/\") for var in branches]\n",
    "additional_branches = ['Lb_M', 'eventNumber'] #spectator variables and others"
   ]
  },
  {
   "cell_type": "code",
   "execution_count": 10,
   "metadata": {
    "collapsed": false
   },
   "outputs": [
    {
     "ename": "ROOTError",
     "evalue": "level=3000, loc='TTreeFormula::Compile', msg=' Bad numerical expression : \"Lb_hop_LoKi_mass_bv\"'",
     "output_type": "error",
     "traceback": [
      "\u001b[0;31m\u001b[0m",
      "\u001b[0;31mROOTError\u001b[0mTraceback (most recent call last)",
      "\u001b[0;32m<ipython-input-10-78b9bc995ec4>\u001b[0m in \u001b[0;36m<module>\u001b[0;34m()\u001b[0m\n\u001b[1;32m      9\u001b[0m           \u001b[0moutfilenameroot\u001b[0m \u001b[0;34m=\u001b[0m \u001b[0moutput_file_names_root\u001b[0m\u001b[0;34m,\u001b[0m\u001b[0;34m\u001b[0m\u001b[0m\n\u001b[1;32m     10\u001b[0m           \u001b[0mfix_features_names_for_MVA\u001b[0m \u001b[0;34m=\u001b[0m \u001b[0mTrue\u001b[0m\u001b[0;34m,\u001b[0m\u001b[0;34m\u001b[0m\u001b[0m\n\u001b[0;32m---> 11\u001b[0;31m           \u001b[0mcuts\u001b[0m\u001b[0;34m=\u001b[0m\u001b[0mcuts\u001b[0m\u001b[0;34m\u001b[0m\u001b[0m\n\u001b[0m\u001b[1;32m     12\u001b[0m          )\n",
      "\u001b[0;32m/home/guido/Lb2LemuAna/MVA/tools/MVA2root.pyc\u001b[0m in \u001b[0;36mMVA2root\u001b[0;34m(k_classifiers, classifier_name, inputfilenames, tuplename, max_files_atatime, branches, outfilenameroot, fix_features_names_for_MVA, cuts)\u001b[0m\n\u001b[1;32m     12\u001b[0m                                         \u001b[0mmax_files_atatime\u001b[0m \u001b[0;34m=\u001b[0m \u001b[0mmax_files_atatime\u001b[0m\u001b[0;34m,\u001b[0m\u001b[0;34m\u001b[0m\u001b[0m\n\u001b[1;32m     13\u001b[0m                                         \u001b[0mbranches\u001b[0m \u001b[0;34m=\u001b[0m \u001b[0mbranches\u001b[0m\u001b[0;34m,\u001b[0m\u001b[0;34m\u001b[0m\u001b[0m\n\u001b[0;32m---> 14\u001b[0;31m                                         cuts = cuts)\n\u001b[0m\u001b[1;32m     15\u001b[0m     \u001b[0;32mif\u001b[0m \u001b[0;34m(\u001b[0m\u001b[0mfix_features_names_for_MVA\u001b[0m\u001b[0;34m)\u001b[0m\u001b[0;34m:\u001b[0m\u001b[0;34m\u001b[0m\u001b[0m\n\u001b[1;32m     16\u001b[0m         \u001b[0;32mfor\u001b[0m \u001b[0mthese_data\u001b[0m \u001b[0;32min\u001b[0m \u001b[0mdata_pandas\u001b[0m\u001b[0;34m:\u001b[0m\u001b[0;34m\u001b[0m\u001b[0m\n",
      "\u001b[0;32m/home/guido/Lb2LemuAna/MVA/tools/loadtuples.pyc\u001b[0m in \u001b[0;36mloadtuples\u001b[0;34m(file_names, tuplename, max_files_atatime, branches, cuts)\u001b[0m\n\u001b[1;32m     18\u001b[0m         \u001b[0;32mfor\u001b[0m \u001b[0mfile\u001b[0m \u001b[0;32min\u001b[0m \u001b[0mthese_files\u001b[0m\u001b[0;34m:\u001b[0m\u001b[0;34m\u001b[0m\u001b[0m\n\u001b[1;32m     19\u001b[0m             \u001b[0mthis_chain\u001b[0m\u001b[0;34m.\u001b[0m\u001b[0mAddFile\u001b[0m\u001b[0;34m(\u001b[0m\u001b[0mfile\u001b[0m\u001b[0;34m)\u001b[0m\u001b[0;34m\u001b[0m\u001b[0m\n\u001b[0;32m---> 20\u001b[0;31m         \u001b[0mthese_bkg_data\u001b[0m \u001b[0;34m=\u001b[0m \u001b[0mroot_numpy\u001b[0m\u001b[0;34m.\u001b[0m\u001b[0mtree2array\u001b[0m\u001b[0;34m(\u001b[0m\u001b[0mtree\u001b[0m\u001b[0;34m=\u001b[0m\u001b[0mthis_chain\u001b[0m\u001b[0;34m,\u001b[0m\u001b[0mselection\u001b[0m\u001b[0;34m=\u001b[0m\u001b[0;34m(\u001b[0m\u001b[0mcuts\u001b[0m\u001b[0;34m)\u001b[0m\u001b[0;34m,\u001b[0m \u001b[0mbranches\u001b[0m\u001b[0;34m=\u001b[0m\u001b[0mbranches\u001b[0m\u001b[0;34m)\u001b[0m\u001b[0;34m\u001b[0m\u001b[0m\n\u001b[0m\u001b[1;32m     21\u001b[0m         \u001b[0mbkg_data\u001b[0m\u001b[0;34m.\u001b[0m\u001b[0mappend\u001b[0m\u001b[0;34m(\u001b[0m\u001b[0mpd\u001b[0m\u001b[0;34m.\u001b[0m\u001b[0mDataFrame\u001b[0m\u001b[0;34m(\u001b[0m\u001b[0mthese_bkg_data\u001b[0m\u001b[0;34m)\u001b[0m\u001b[0;34m)\u001b[0m\u001b[0;34m\u001b[0m\u001b[0m\n\u001b[1;32m     22\u001b[0m         \u001b[0mall_data_tree\u001b[0m\u001b[0;34m.\u001b[0m\u001b[0mappend\u001b[0m\u001b[0;34m(\u001b[0m\u001b[0mthis_chain\u001b[0m\u001b[0;34m.\u001b[0m\u001b[0mCopyTree\u001b[0m\u001b[0;34m(\u001b[0m\u001b[0mcuts\u001b[0m\u001b[0;34m)\u001b[0m\u001b[0;34m)\u001b[0m\u001b[0;34m\u001b[0m\u001b[0m\n",
      "\u001b[0;32m/cvmfs/lhcb.cern.ch/lib/lcg/releases/LCG_87/pyanalysis/2.0/x86_64-slc6-gcc49-opt/lib/python2.7/site-packages/root_numpy/_tree.py\u001b[0m in \u001b[0;36mtree2array\u001b[0;34m(tree, branches, selection, object_selection, start, stop, step, include_weight, weight_name, cache_size)\u001b[0m\n\u001b[1;32m    383\u001b[0m         \u001b[0minclude_weight\u001b[0m\u001b[0;34m,\u001b[0m\u001b[0;34m\u001b[0m\u001b[0m\n\u001b[1;32m    384\u001b[0m         \u001b[0mweight_name\u001b[0m\u001b[0;34m,\u001b[0m\u001b[0;34m\u001b[0m\u001b[0m\n\u001b[0;32m--> 385\u001b[0;31m         cache_size)\n\u001b[0m\u001b[1;32m    386\u001b[0m \u001b[0;34m\u001b[0m\u001b[0m\n\u001b[1;32m    387\u001b[0m     \u001b[0;32mif\u001b[0m \u001b[0mflatten\u001b[0m\u001b[0;34m:\u001b[0m\u001b[0;34m\u001b[0m\u001b[0m\n",
      "\u001b[0;32m/cvmfs/lhcb.cern.ch/lib/lcg/releases/LCG_87/pyanalysis/2.0/x86_64-slc6-gcc49-opt/lib/python2.7/site-packages/rootpy-0.8.1-py2.7.egg/rootpy/logger/magic.py\u001b[0m in \u001b[0;36mintercept_next_line\u001b[0;34m(f, why, *args)\u001b[0m\n\u001b[1;32m    245\u001b[0m         \u001b[0;32mif\u001b[0m \u001b[0msys\u001b[0m\u001b[0;34m.\u001b[0m\u001b[0mversion_info\u001b[0m\u001b[0;34m[\u001b[0m\u001b[0;36m0\u001b[0m\u001b[0;34m]\u001b[0m \u001b[0;34m<\u001b[0m \u001b[0;36m3\u001b[0m\u001b[0;34m:\u001b[0m\u001b[0;34m\u001b[0m\u001b[0m\n\u001b[1;32m    246\u001b[0m             \u001b[0;31m#raise exception.__class__, exception, traceback\u001b[0m\u001b[0;34m\u001b[0m\u001b[0;34m\u001b[0m\u001b[0m\n\u001b[0;32m--> 247\u001b[0;31m             \u001b[0;32mraise\u001b[0m \u001b[0mexception\u001b[0m\u001b[0;34m\u001b[0m\u001b[0m\n\u001b[0m\u001b[1;32m    248\u001b[0m         \u001b[0;32mraise\u001b[0m \u001b[0mexception\u001b[0m\u001b[0;34m.\u001b[0m\u001b[0mwith_traceback\u001b[0m\u001b[0;34m(\u001b[0m\u001b[0mtraceback\u001b[0m\u001b[0;34m)\u001b[0m\u001b[0;34m\u001b[0m\u001b[0m\n\u001b[1;32m    249\u001b[0m \u001b[0;34m\u001b[0m\u001b[0m\n",
      "\u001b[0;31mROOTError\u001b[0m: level=3000, loc='TTreeFormula::Compile', msg=' Bad numerical expression : \"Lb_hop_LoKi_mass_bv\"'"
     ]
    },
    {
     "name": "stderr",
     "output_type": "stream",
     "text": [
      "ERROR:ROOT.TTreeFormula.Compile: Bad numerical expression : \"Lb_hop_LoKi_mass_bv\"\n"
     ]
    }
   ],
   "source": [
    "from tools.MVA2root import MVA2root\n",
    "\n",
    "MVA2root (k_classifiers,\n",
    "          classifier_name=best_classifier_name+str(tag),\n",
    "          inputfilenames = input_file_names,\n",
    "          tuplename = tuple_name,\n",
    "          max_files_atatime = 50,\n",
    "          branches = branches+additional_branches,\n",
    "          outfilenameroot = output_file_names_root,\n",
    "          fix_features_names_for_MVA = True,\n",
    "          cuts=cuts\n",
    "         )"
   ]
  },
  {
   "cell_type": "code",
   "execution_count": 8,
   "metadata": {
    "collapsed": false
   },
   "outputs": [
    {
     "name": "stdout",
     "output_type": "stream",
     "text": [
      "Processing chunk 0 of 1 ...\n",
      "Applying MVA to fold 0 ...\n",
      "Applying MVA to fold 1 ...\n",
      "Applying MVA to fold 2 ...\n",
      "Applying MVA to fold 3 ...\n",
      "Applying MVA to fold 4 ...\n",
      "Done!\n",
      "Writing output file with the following content: \n",
      "TFile**\t\t/eos/lhcb/user/g/gandreas/Lb2Lemu/tuples/S28/LbLemu_MC_test_BDT_0.root\t\n",
      " TFile*\t\t/eos/lhcb/user/g/gandreas/Lb2Lemu/tuples/S28/LbLemu_MC_test_BDT_0.root\t\n",
      "  KEY: TTree\tDecayTree;1\tDecayTree\n"
     ]
    }
   ],
   "source": []
  },
  {
   "cell_type": "code",
   "execution_count": null,
   "metadata": {
    "collapsed": true
   },
   "outputs": [],
   "source": []
  }
 ],
 "metadata": {
  "kernelspec": {
   "display_name": "Python 2",
   "language": "python",
   "name": "python2"
  },
  "language_info": {
   "codemirror_mode": {
    "name": "ipython",
    "version": 2
   },
   "file_extension": ".py",
   "mimetype": "text/x-python",
   "name": "python",
   "nbconvert_exporter": "python",
   "pygments_lexer": "ipython2",
   "version": "2.7.13"
  }
 },
 "nbformat": 4,
 "nbformat_minor": 2
}
