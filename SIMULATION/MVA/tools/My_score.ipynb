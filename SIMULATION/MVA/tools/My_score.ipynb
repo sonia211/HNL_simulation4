{
 "cells": [
  {
   "cell_type": "code",
   "execution_count": 7,
   "metadata": {
    "collapsed": false
   },
   "outputs": [],
   "source": [
    "from sklearn.metrics import roc_auc_score\n",
    "import compare_train_test"
   ]
  },
  {
   "cell_type": "code",
   "execution_count": 8,
   "metadata": {
    "collapsed": false
   },
   "outputs": [
    {
     "ename": "NameError",
     "evalue": "name 'sk' is not defined",
     "output_type": "error",
     "traceback": [
      "\u001b[0;31m---------------------------------------------------------------------------\u001b[0m",
      "\u001b[0;31mNameError\u001b[0m                                 Traceback (most recent call last)",
      "\u001b[0;32m<ipython-input-8-4a44b9fbcde1>\u001b[0m in \u001b[0;36m<module>\u001b[0;34m()\u001b[0m\n\u001b[1;32m      4\u001b[0m \"\"\"\n\u001b[1;32m      5\u001b[0m \u001b[0msignificance_level\u001b[0m \u001b[0;34m=\u001b[0m \u001b[0;36m0.05\u001b[0m\u001b[0;34m\u001b[0m\u001b[0m\n\u001b[0;32m----> 6\u001b[0;31m \u001b[0mpred\u001b[0m \u001b[0;34m=\u001b[0m \u001b[0msk\u001b[0m\u001b[0;34m.\u001b[0m\u001b[0mpredict_proba\u001b[0m\u001b[0;34m(\u001b[0m\u001b[0mtest_data\u001b[0m\u001b[0;34m)\u001b[0m\u001b[0;34m\u001b[0m\u001b[0m\n\u001b[0m\u001b[1;32m      7\u001b[0m \u001b[0mks\u001b[0m \u001b[0;34m=\u001b[0m \u001b[0mcompare_train_test\u001b[0m\u001b[0;34m(\u001b[0m\u001b[0mfac\u001b[0m\u001b[0;34m,\u001b[0m \u001b[0msignal_train\u001b[0m\u001b[0;34m,\u001b[0m \u001b[0mbackground_train\u001b[0m\u001b[0;34m,\u001b[0m \u001b[0msignal_test\u001b[0m\u001b[0;34m,\u001b[0m \u001b[0mbackground_test\u001b[0m\u001b[0;34m,\u001b[0m \u001b[0mbins\u001b[0m\u001b[0;34m=\u001b[0m\u001b[0;36m30\u001b[0m\u001b[0;34m)\u001b[0m \u001b[0;31m#ks now contains [ks_sig, ks_bkg]\u001b[0m\u001b[0;34m\u001b[0m\u001b[0m\n\u001b[1;32m      8\u001b[0m \u001b[0;34m\u001b[0m\u001b[0m\n",
      "\u001b[0;31mNameError\u001b[0m: name 'sk' is not defined"
     ]
    }
   ],
   "source": [
    "\"\"\"\n",
    "this function will return the integral under the roc curve of a certain trained classifier multiplied by -1 if the classifier is overtrained.\n",
    "In such a way, overtrained classifiers will get a bad score during parameters optimisation.\n",
    "\"\"\"\n",
    "significance_level = 0.05\n",
    "pred = sk.predict_proba(test_data)\n",
    "ks = compare_train_test(fac, signal_train, background_train, signal_test, background_test, bins=30) #ks now contains [ks_sig, ks_bkg]\n",
    "\n",
    "#fill ks_is_ok with 1 if ks p_value > significance level and -1 otherwise\n",
    "ks_sig_is_ok = 1 if ks[0]>significance_level else -1\n",
    "ks_bkg_is_ok = 1 if ks[1]>significance_level else -1\n",
    "ks_is_ok = ks_sig_is_ok*ks_bkg_is_ok\n",
    "\n",
    "auc = roc_auc_score(test_labels, pred[:, 1])\n",
    "return ks_is_ok*auc"
   ]
  },
  {
   "cell_type": "code",
   "execution_count": null,
   "metadata": {
    "collapsed": true
   },
   "outputs": [],
   "source": []
  }
 ],
 "metadata": {
  "kernelspec": {
   "display_name": "root6py2",
   "language": "python",
   "name": "root6py2"
  },
  "language_info": {
   "codemirror_mode": {
    "name": "ipython",
    "version": 2
   },
   "file_extension": ".py",
   "mimetype": "text/x-python",
   "name": "python",
   "nbconvert_exporter": "python",
   "pygments_lexer": "ipython2",
   "version": "2.7.13"
  }
 },
 "nbformat": 4,
 "nbformat_minor": 2
}
